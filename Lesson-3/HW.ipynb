{
 "cells": [
  {
   "cell_type": "markdown",
   "source": [
    "## Рекомендательные системы\n",
    "### Урок 3. Коллаборативная фильтрация"
   ],
   "metadata": {
    "collapsed": false
   },
   "id": "ad05dc2e8ff05234"
  },
  {
   "cell_type": "markdown",
   "source": [
    "#### 1) Попытаться ответить на вопросы/выдвинуть гипотезы\n",
    "\n",
    "Какие вопросы?"
   ],
   "metadata": {
    "collapsed": false
   },
   "id": "be3a966dc3f26810"
  },
  {
   "cell_type": "markdown",
   "source": [
    "#### 2) Доделать прошлые домашния задания\n",
    "Ок"
   ],
   "metadata": {
    "collapsed": false
   },
   "id": "393b8fe1d4097e2d"
  },
  {
   "cell_type": "markdown",
   "source": [
    "#### 3) Прочитать статьи BM25/MatrixFactorization\n",
    "Ок"
   ],
   "metadata": {
    "collapsed": false
   },
   "id": "f6c93929919cc0ec"
  },
  {
   "cell_type": "markdown",
   "source": [
    "#### 4) Поэкспериментировать с ALS (grid-search)"
   ],
   "metadata": {
    "collapsed": false
   },
   "id": "5abdbd85e0ff7327"
  },
  {
   "cell_type": "code",
   "execution_count": 4,
   "outputs": [],
   "source": [
    "import pandas as pd\n",
    "import numpy as np\n",
    "import collections\n",
    "import time\n",
    "\n",
    "from scipy.sparse import csr_matrix\n",
    "from scipy import stats\n",
    "import implicit\n",
    "from implicit.als import AlternatingLeastSquares\n",
    "from implicit.nearest_neighbours import bm25_weight, tfidf_weight\n",
    "import warnings\n",
    "warnings.filterwarnings('ignore')"
   ],
   "metadata": {
    "collapsed": false,
    "ExecuteTime": {
     "end_time": "2023-08-03T16:01:26.673323665Z",
     "start_time": "2023-08-03T16:01:26.507996730Z"
    }
   },
   "id": "968d3c85934b1b92"
  },
  {
   "cell_type": "code",
   "execution_count": 7,
   "outputs": [
    {
     "ename": "ValueError",
     "evalue": "user_items must contain 1 row for every user in userids",
     "output_type": "error",
     "traceback": [
      "\u001B[0;31m---------------------------------------------------------------------------\u001B[0m",
      "\u001B[0;31mValueError\u001B[0m                                Traceback (most recent call last)",
      "Input \u001B[0;32mIn [7]\u001B[0m, in \u001B[0;36m<cell line: 110>\u001B[0;34m()\u001B[0m\n\u001B[1;32m    108\u001B[0m res \u001B[38;5;241m=\u001B[39m []\n\u001B[1;32m    110\u001B[0m \u001B[38;5;28;01mfor\u001B[39;00m uim \u001B[38;5;129;01min\u001B[39;00m lst_user_item_matrix:\n\u001B[0;32m--> 111\u001B[0m     res\u001B[38;5;241m.\u001B[39mappend(\u001B[43mCheckWeight\u001B[49m\u001B[43m(\u001B[49m\u001B[43mmodel\u001B[49m\u001B[43m,\u001B[49m\u001B[43m \u001B[49m\u001B[43muim\u001B[49m\u001B[43m,\u001B[49m\u001B[43m \u001B[49m\u001B[43mresult\u001B[49m\u001B[43m)\u001B[49m)\n\u001B[1;32m    113\u001B[0m columns\u001B[38;5;241m=\u001B[39m[\u001B[38;5;124m'\u001B[39m\u001B[38;5;124mquantity\u001B[39m\u001B[38;5;124m'\u001B[39m, \u001B[38;5;124m'\u001B[39m\u001B[38;5;124mretail_disc\u001B[39m\u001B[38;5;124m'\u001B[39m, \u001B[38;5;124m'\u001B[39m\u001B[38;5;124mweek_no_52\u001B[39m\u001B[38;5;124m'\u001B[39m, \u001B[38;5;124m'\u001B[39m\u001B[38;5;124msec_trans_time\u001B[39m\u001B[38;5;124m'\u001B[39m]\n\u001B[1;32m    114\u001B[0m \u001B[38;5;28;01mfor\u001B[39;00m c,r \u001B[38;5;129;01min\u001B[39;00m \u001B[38;5;28mzip\u001B[39m(columns, res):\n",
      "Input \u001B[0;32mIn [7]\u001B[0m, in \u001B[0;36mCheckWeight\u001B[0;34m(model, user_item_matrix, valid)\u001B[0m\n\u001B[1;32m     92\u001B[0m sparse_user_item \u001B[38;5;241m=\u001B[39m csr_matrix(user_item_matrix)\u001B[38;5;241m.\u001B[39mtocsr()\n\u001B[1;32m     93\u001B[0m model\u001B[38;5;241m.\u001B[39mfit(csr_matrix(user_item_matrix)\u001B[38;5;241m.\u001B[39mT, show_progress\u001B[38;5;241m=\u001B[39m\u001B[38;5;28;01mFalse\u001B[39;00m)\n\u001B[0;32m---> 95\u001B[0m recs \u001B[38;5;241m=\u001B[39m \u001B[43mmodel\u001B[49m\u001B[38;5;241;43m.\u001B[39;49m\u001B[43mrecommend\u001B[49m\u001B[43m(\u001B[49m\u001B[43muserid\u001B[49m\u001B[38;5;241;43m=\u001B[39;49m\u001B[43muserid_to_id\u001B[49m\u001B[43m[\u001B[49m\u001B[38;5;241;43m2\u001B[39;49m\u001B[43m]\u001B[49m\u001B[43m,\u001B[49m\u001B[43m  \u001B[49m\u001B[38;5;66;43;03m# userid - id от 0 до N\u001B[39;49;00m\n\u001B[1;32m     96\u001B[0m \u001B[43m                        \u001B[49m\u001B[43muser_items\u001B[49m\u001B[38;5;241;43m=\u001B[39;49m\u001B[43mcsr_matrix\u001B[49m\u001B[43m(\u001B[49m\u001B[43muser_item_matrix\u001B[49m\u001B[43m)\u001B[49m\u001B[38;5;241;43m.\u001B[39;49m\u001B[43mtocsr\u001B[49m\u001B[43m(\u001B[49m\u001B[43m)\u001B[49m\u001B[43m,\u001B[49m\u001B[43m   \u001B[49m\u001B[38;5;66;43;03m# на вход user-item matrix\u001B[39;49;00m\n\u001B[1;32m     97\u001B[0m \u001B[43m                        \u001B[49m\u001B[43mN\u001B[49m\u001B[38;5;241;43m=\u001B[39;49m\u001B[38;5;241;43m5\u001B[39;49m\u001B[43m,\u001B[49m\u001B[43m \u001B[49m\u001B[38;5;66;43;03m# кол-во рекомендаций \u001B[39;49;00m\n\u001B[1;32m     98\u001B[0m \u001B[43m                        \u001B[49m\u001B[43mfilter_already_liked_items\u001B[49m\u001B[38;5;241;43m=\u001B[39;49m\u001B[38;5;28;43;01mFalse\u001B[39;49;00m\u001B[43m,\u001B[49m\u001B[43m \u001B[49m\n\u001B[1;32m     99\u001B[0m \u001B[43m                        \u001B[49m\u001B[43mfilter_items\u001B[49m\u001B[38;5;241;43m=\u001B[39;49m\u001B[38;5;28;43;01mNone\u001B[39;49;00m\u001B[43m,\u001B[49m\u001B[43m \u001B[49m\n\u001B[1;32m    100\u001B[0m \u001B[43m                        \u001B[49m\u001B[43mrecalculate_user\u001B[49m\u001B[38;5;241;43m=\u001B[39;49m\u001B[38;5;28;43;01mTrue\u001B[39;49;00m\u001B[43m)\u001B[49m\n\u001B[1;32m    101\u001B[0m valid[\u001B[38;5;124m'\u001B[39m\u001B[38;5;124mals\u001B[39m\u001B[38;5;124m'\u001B[39m] \u001B[38;5;241m=\u001B[39m valid[\u001B[38;5;124m'\u001B[39m\u001B[38;5;124muser_id\u001B[39m\u001B[38;5;124m'\u001B[39m]\u001B[38;5;241m.\u001B[39mapply(\u001B[38;5;28;01mlambda\u001B[39;00m x: get_recommendations(x, model\u001B[38;5;241m=\u001B[39mmodel, sparse_user_item\u001B[38;5;241m=\u001B[39msparse_user_item, N\u001B[38;5;241m=\u001B[39m\u001B[38;5;241m5\u001B[39m))\n\u001B[1;32m    102\u001B[0m \u001B[38;5;28;01mreturn\u001B[39;00m valid\u001B[38;5;241m.\u001B[39mapply(\u001B[38;5;28;01mlambda\u001B[39;00m row: precision_at_k(row[\u001B[38;5;124m'\u001B[39m\u001B[38;5;124mals\u001B[39m\u001B[38;5;124m'\u001B[39m], row[\u001B[38;5;124m'\u001B[39m\u001B[38;5;124mactual\u001B[39m\u001B[38;5;124m'\u001B[39m]), axis\u001B[38;5;241m=\u001B[39m\u001B[38;5;241m1\u001B[39m)\u001B[38;5;241m.\u001B[39mmean()\n",
      "File \u001B[0;32m~/study/gb-ds-bc/venv/lib/python3.8/site-packages/implicit/cpu/matrix_factorization_base.py:49\u001B[0m, in \u001B[0;36mMatrixFactorizationBase.recommend\u001B[0;34m(self, userid, user_items, N, filter_already_liked_items, filter_items, recalculate_user, items)\u001B[0m\n\u001B[1;32m     47\u001B[0m     user_count \u001B[38;5;241m=\u001B[39m \u001B[38;5;241m1\u001B[39m \u001B[38;5;28;01mif\u001B[39;00m np\u001B[38;5;241m.\u001B[39misscalar(userid) \u001B[38;5;28;01melse\u001B[39;00m \u001B[38;5;28mlen\u001B[39m(userid)\n\u001B[1;32m     48\u001B[0m     \u001B[38;5;28;01mif\u001B[39;00m user_items\u001B[38;5;241m.\u001B[39mshape[\u001B[38;5;241m0\u001B[39m] \u001B[38;5;241m!=\u001B[39m user_count:\n\u001B[0;32m---> 49\u001B[0m         \u001B[38;5;28;01mraise\u001B[39;00m \u001B[38;5;167;01mValueError\u001B[39;00m(\u001B[38;5;124m\"\u001B[39m\u001B[38;5;124muser_items must contain 1 row for every user in userids\u001B[39m\u001B[38;5;124m\"\u001B[39m)\n\u001B[1;32m     51\u001B[0m user \u001B[38;5;241m=\u001B[39m \u001B[38;5;28mself\u001B[39m\u001B[38;5;241m.\u001B[39m_user_factor(userid, user_items, recalculate_user)\n\u001B[1;32m     53\u001B[0m item_factors \u001B[38;5;241m=\u001B[39m \u001B[38;5;28mself\u001B[39m\u001B[38;5;241m.\u001B[39mitem_factors\n",
      "\u001B[0;31mValueError\u001B[0m: user_items must contain 1 row for every user in userids"
     ]
    }
   ],
   "source": [
    "def precision_at_k(recommended_list, bought_list, k=5):\n",
    "    bought_list = np.array(bought_list)\n",
    "    recommended_list = np.array(recommended_list)[:k]\n",
    "    flags = np.isin(bought_list, recommended_list)\n",
    "    return flags.sum() / len(recommended_list)\n",
    "\n",
    "\n",
    "def get_recommendations(user, model, sparse_user_item, N=5):\n",
    "    return [id_to_itemid[rec[0]] for rec in \n",
    "            model.recommend(userid=userid_to_id[user], \n",
    "                            user_items=sparse_user_item,\n",
    "                            N=N, \n",
    "                            filter_already_liked_items=False, \n",
    "                            filter_items=None, \n",
    "                            recalculate_user=True)]\n",
    "\n",
    "\n",
    "def CheckWeight(model, user_item_matrix, valid):\n",
    "    sparse_user_item = csr_matrix(user_item_matrix).tocsr()\n",
    "    model.fit(csr_matrix(user_item_matrix).T, show_progress=False)\n",
    "\n",
    "    recs = model.recommend(userid=userid_to_id[2],  # userid - id от 0 до N\n",
    "                            user_items=csr_matrix(user_item_matrix).tocsr(),   # на вход user-item matrix\n",
    "                            N=5, # кол-во рекомендаций \n",
    "                            filter_already_liked_items=False, \n",
    "                            filter_items=None, \n",
    "                            recalculate_user=True)\n",
    "    valid['als'] = valid['user_id'].apply(lambda x: get_recommendations(x, model=model, sparse_user_item=sparse_user_item, N=5))\n",
    "    return valid.apply(lambda row: precision_at_k(row['als'], row['actual']), axis=1).mean()\n",
    "\n",
    "\n",
    "data = pd.read_csv('./retail_train.csv')\n",
    "\n",
    "data.columns = [col.lower() for col in data.columns]\n",
    "data.rename(columns={'household_key': 'user_id',\n",
    "                    'product_id': 'item_id'},\n",
    "           inplace=True)\n",
    "\n",
    "data['norm_retail_disc'] =  (data['retail_disc']-data['retail_disc'].min())/(data['retail_disc'].max() - data['retail_disc'].min())\n",
    "data['week_no_52'] =  data['week_no'] % 52\n",
    "data['week_no_52'] =  (data['week_no_52']-data['week_no_52'].min())/(data['week_no_52'].max() - data['week_no_52'].min())\n",
    "\n",
    "data['sec_trans_time'] = (60*data['trans_time'].astype(int)/100 + data['trans_time'] % 100)*60\n",
    "data['sec_trans_time'] =  (data['sec_trans_time']-data['sec_trans_time'].min())/(data['sec_trans_time'].max() - data['week_no_52'].min())\n",
    "\n",
    "test_size_weeks = 3\n",
    "data_train = data[data['week_no'] < data['week_no'].max() - test_size_weeks]\n",
    "data_test = data[data['week_no'] >= data['week_no'].max() - test_size_weeks]\n",
    "\n",
    "item_features = pd.read_csv('./product.csv')\n",
    "item_features.columns = [col.lower() for col in item_features.columns]\n",
    "item_features.rename(columns={'product_id': 'item_id'}, inplace=True)\n",
    "\n",
    "result_train = data_train.groupby('user_id')['item_id'].unique().reset_index()\n",
    "result_train.columns=['user_id', 'actual']\n",
    "result = data_test.groupby('user_id')['item_id'].unique().reset_index()\n",
    "result.columns=['user_id', 'actual']\n",
    "\n",
    "popularity = data_train.groupby('item_id')['quantity'].sum().reset_index()\n",
    "popularity.rename(columns={'quantity': 'n_sold'}, inplace=True)\n",
    "\n",
    "top_5000 = popularity.sort_values('n_sold', ascending=False).head(5000).item_id.tolist()\n",
    "data_train.loc[~data_train['item_id'].isin(top_5000), 'item_id'] = 999999\n",
    "\n",
    "user_item_matrix_quantity = pd.pivot_table(data_train, \n",
    "                                  index='user_id', columns='item_id', \n",
    "                                  values='quantity', aggfunc='count', \n",
    "                                  fill_value=0).astype(float)\n",
    "\n",
    "user_item_matrix_norm_retail_disc = pd.pivot_table(data_train, \n",
    "                                  index='user_id', columns='item_id', \n",
    "                                  values='norm_retail_disc', aggfunc='mean', \n",
    "                                  fill_value=0).astype(float)\n",
    "\n",
    "user_item_matrix_week_no_52 = pd.pivot_table(data_train, \n",
    "                                  index='user_id', columns='item_id', \n",
    "                                  values='week_no_52', aggfunc='mean', \n",
    "                                  fill_value=0).astype(float)\n",
    "\n",
    "user_item_matrix_sec_trans_time = pd.pivot_table(data_train, \n",
    "                                  index='user_id', columns='item_id', \n",
    "                                  values='sec_trans_time', aggfunc='mean', \n",
    "                                  fill_value=0).astype(float)\n",
    "\n",
    "\n",
    "userids = user_item_matrix_quantity.index.values\n",
    "itemids = user_item_matrix_quantity.columns.values\n",
    "\n",
    "matrix_userids = np.arange(len(userids))\n",
    "matrix_itemids = np.arange(len(itemids))\n",
    "\n",
    "id_to_itemid = dict(zip(matrix_itemids, itemids))\n",
    "id_to_userid = dict(zip(matrix_userids, userids))\n",
    "\n",
    "itemid_to_id = dict(zip(itemids, matrix_itemids))\n",
    "userid_to_id = dict(zip(userids, matrix_userids))\n",
    "\n",
    "model = AlternatingLeastSquares(factors=100, #k\n",
    "                                regularization=0.001,\n",
    "                                iterations=15, \n",
    "                                calculate_training_loss=True,\n",
    "                                use_gpu=False, \n",
    "                                num_threads=0)\n",
    "\n",
    "lst_user_item_matrix = [user_item_matrix_quantity, user_item_matrix_norm_retail_disc, \n",
    "user_item_matrix_week_no_52, user_item_matrix_sec_trans_time]\n",
    "\n",
    "res = []\n",
    "\n",
    "for uim in lst_user_item_matrix:\n",
    "    res.append(CheckWeight(model, uim, result))\n",
    "\n",
    "columns=['quantity', 'retail_disc', 'week_no_52', 'sec_trans_time']\n",
    "for c,r in zip(columns, res):\n",
    "    print(c,'\\t', r)"
   ],
   "metadata": {
    "collapsed": false,
    "ExecuteTime": {
     "end_time": "2023-08-03T16:09:45.334653973Z",
     "start_time": "2023-08-03T16:09:28.586867477Z"
    }
   },
   "id": "658f8224189e908"
  },
  {
   "cell_type": "code",
   "execution_count": null,
   "outputs": [],
   "source": [
    "BestModel = collections.namedtuple('BestModel', ['model', 'score_valid', 'score_test', 'param','time'])\n",
    "params = {\n",
    "    'factors' : [25, 50, 75, 100, 300],\n",
    "    'regularization' : [1, 0.1, 0.01, 0.05, 0.001],\n",
    "    'iterations': 15,\n",
    "    'calculate_training_loss': True,\n",
    "    'use_gpu': False,\n",
    "    'num_threads': 0\n",
    "}\n",
    "best_model = BestModel(model=None, score_valid=0, score_test=0, param=None, time=0)"
   ],
   "metadata": {
    "collapsed": false,
    "ExecuteTime": {
     "start_time": "2023-08-03T16:01:44.358283825Z"
    }
   },
   "id": "9fb42703152d345e"
  },
  {
   "cell_type": "code",
   "execution_count": null,
   "outputs": [],
   "source": [
    "models=[]\n",
    "for param in params:\n",
    "    start_time = time.time()\n",
    "    model = AlternatingLeastSquares(**param)\n",
    "    score_valid = CheckWeight(model,user_item_matrix_norm_retail_disc,result)\n",
    "    score_test = CheckWeight(model,user_item_matrix_norm_retail_disc,result_train)\n",
    "    tm = (time.time() - start_time)\n",
    "    models.append(BestModel(model, score_valid, score_test,\n",
    "                            params, tm))\n",
    "    if best_model.score_valid < score_valid:\n",
    "        best_model = models[-1]"
   ],
   "metadata": {
    "collapsed": false,
    "ExecuteTime": {
     "start_time": "2023-08-03T16:01:44.359806583Z"
    }
   },
   "id": "a06caa55539b8398"
  },
  {
   "cell_type": "code",
   "execution_count": null,
   "outputs": [],
   "source": [
    "best_model.param"
   ],
   "metadata": {
    "collapsed": false,
    "ExecuteTime": {
     "start_time": "2023-08-03T16:01:44.360476016Z"
    }
   },
   "id": "283a2d6d957b4a39"
  },
  {
   "cell_type": "code",
   "execution_count": null,
   "outputs": [],
   "source": [
    "best_model.score_valid"
   ],
   "metadata": {
    "collapsed": false,
    "ExecuteTime": {
     "start_time": "2023-08-03T16:01:44.361020362Z"
    }
   },
   "id": "c80c010c0783a16b"
  }
 ],
 "metadata": {
  "kernelspec": {
   "display_name": "Python 3",
   "language": "python",
   "name": "python3"
  },
  "language_info": {
   "codemirror_mode": {
    "name": "ipython",
    "version": 2
   },
   "file_extension": ".py",
   "mimetype": "text/x-python",
   "name": "python",
   "nbconvert_exporter": "python",
   "pygments_lexer": "ipython2",
   "version": "2.7.6"
  }
 },
 "nbformat": 4,
 "nbformat_minor": 5
}
