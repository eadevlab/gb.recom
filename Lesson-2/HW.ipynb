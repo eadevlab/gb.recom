{
 "nbformat": 4,
 "nbformat_minor": 0,
 "metadata": {
  "kernelspec": {
   "display_name": "Python 3",
   "language": "python",
   "name": "python3"
  },
  "language_info": {
   "codemirror_mode": {
    "name": "ipython",
    "version": 3
   },
   "file_extension": ".py",
   "mimetype": "text/x-python",
   "name": "python",
   "nbconvert_exporter": "python",
   "pygments_lexer": "ipython3",
   "version": "3.7.3"
  },
  "colab": {
   "name": "hw_webinar_2.ipynb",
   "provenance": []
  }
 },
 "cells": [
  {
   "cell_type": "markdown",
   "source": [
    "## Рекомендательные системы\n",
    "### Урок 2. Бейзлайны и детерминированные алгоритмы item-item"
   ],
   "metadata": {
    "collapsed": false
   }
  },
  {
   "cell_type": "code",
   "metadata": {
    "id": "rgIzW-DSC8Yi",
    "colab_type": "code",
    "colab": {},
    "ExecuteTime": {
     "end_time": "2023-07-29T20:43:56.108543522Z",
     "start_time": "2023-07-29T20:43:56.061051405Z"
    }
   },
   "source": [
    "import pandas as pd\n",
    "import numpy as np\n",
    "import matplotlib.pyplot as plt\n",
    "%matplotlib inline\n",
    "\n",
    "# Для работы с матрицами\n",
    "from scipy.sparse import csr_matrix, coo_matrix\n",
    "\n",
    "# Детерминированные алгоритмы\n",
    "from implicit.nearest_neighbours import ItemItemRecommender, CosineRecommender, TFIDFRecommender, BM25Recommender\n",
    "\n",
    "# Метрики\n",
    "from implicit.evaluation import train_test_split\n",
    "from implicit.evaluation import precision_at_k, mean_average_precision_at_k, AUC_at_k, ndcg_at_k\n",
    "import re"
   ],
   "execution_count": 21,
   "outputs": []
  },
  {
   "cell_type": "code",
   "metadata": {
    "id": "9qFkcgyrC8Yt",
    "colab_type": "code",
    "colab": {},
    "outputId": "24a33bf1-942a-4b18-c54a-a7500c8f8712",
    "ExecuteTime": {
     "end_time": "2023-07-29T20:36:44.979061227Z",
     "start_time": "2023-07-29T20:36:42.852687062Z"
    }
   },
   "source": [
    "data = pd.read_csv('./retail_train.csv')\n",
    "data.head(2)"
   ],
   "execution_count": 4,
   "outputs": [
    {
     "data": {
      "text/plain": "   user_id    basket_id  day  item_id  quantity  sales_value  store_id  \\\n0     2375  26984851472    1  1004906         1         1.39       364   \n1     2375  26984851472    1  1033142         1         0.82       364   \n\n   retail_disc  trans_time  week_no  coupon_disc  coupon_match_disc  \n0         -0.6        1631        1          0.0                0.0  \n1          0.0        1631        1          0.0                0.0  ",
      "text/html": "<div>\n<style scoped>\n    .dataframe tbody tr th:only-of-type {\n        vertical-align: middle;\n    }\n\n    .dataframe tbody tr th {\n        vertical-align: top;\n    }\n\n    .dataframe thead th {\n        text-align: right;\n    }\n</style>\n<table border=\"1\" class=\"dataframe\">\n  <thead>\n    <tr style=\"text-align: right;\">\n      <th></th>\n      <th>user_id</th>\n      <th>basket_id</th>\n      <th>day</th>\n      <th>item_id</th>\n      <th>quantity</th>\n      <th>sales_value</th>\n      <th>store_id</th>\n      <th>retail_disc</th>\n      <th>trans_time</th>\n      <th>week_no</th>\n      <th>coupon_disc</th>\n      <th>coupon_match_disc</th>\n    </tr>\n  </thead>\n  <tbody>\n    <tr>\n      <th>0</th>\n      <td>2375</td>\n      <td>26984851472</td>\n      <td>1</td>\n      <td>1004906</td>\n      <td>1</td>\n      <td>1.39</td>\n      <td>364</td>\n      <td>-0.6</td>\n      <td>1631</td>\n      <td>1</td>\n      <td>0.0</td>\n      <td>0.0</td>\n    </tr>\n    <tr>\n      <th>1</th>\n      <td>2375</td>\n      <td>26984851472</td>\n      <td>1</td>\n      <td>1033142</td>\n      <td>1</td>\n      <td>0.82</td>\n      <td>364</td>\n      <td>0.0</td>\n      <td>1631</td>\n      <td>1</td>\n      <td>0.0</td>\n      <td>0.0</td>\n    </tr>\n  </tbody>\n</table>\n</div>"
     },
     "execution_count": 4,
     "metadata": {},
     "output_type": "execute_result"
    }
   ]
  },
  {
   "cell_type": "code",
   "metadata": {
    "id": "epcBZlgJC8Y0",
    "colab_type": "code",
    "colab": {},
    "ExecuteTime": {
     "end_time": "2023-07-29T20:36:46.074096162Z",
     "start_time": "2023-07-29T20:36:45.900085758Z"
    }
   },
   "source": [
    "test_size_weeks = 3\n",
    "\n",
    "data_train = data[data['week_no'] < data['week_no'].max() - test_size_weeks]\n",
    "data_test = data[data['week_no'] >= data['week_no'].max() - test_size_weeks]"
   ],
   "execution_count": 5,
   "outputs": []
  },
  {
   "cell_type": "markdown",
   "metadata": {
    "id": "zlUUzLFeC8Y4",
    "colab_type": "text"
   },
   "source": [
    "### Задание 1. Weighted Random Recommendation\n",
    "\n",
    "Напишите код для случайных рекоммендаций, в которых вероятность рекомендовать товар прямо пропорциональна логарифму продаж\n",
    "- Можно сэмплировать товары случайно, но пропорционально какому-либо весу\n",
    "- Например, прямопропорционально популярности. Вес = log(sales_sum товара)"
   ]
  },
  {
   "cell_type": "code",
   "metadata": {
    "id": "brMuCHolC8Y4",
    "colab_type": "code",
    "colab": {},
    "ExecuteTime": {
     "end_time": "2023-07-29T20:40:22.433132243Z",
     "start_time": "2023-07-29T20:40:22.413544246Z"
    }
   },
   "source": [
    "def weighted_random_recommendation(items_weights, n=5):\n",
    "    \"\"\"Случайные рекоммендации\n",
    "    \n",
    "    Input\n",
    "    -----\n",
    "    items_weights: pd.DataFrame\n",
    "        Датафрейм со столбцами item_id, weight. Сумма weight по всем товарам = 1\n",
    "    \"\"\"\n",
    "    recs = np.random.choice(np.arange(len(items_weights)), \n",
    "                            size=n, \n",
    "                            p=np.array(items_weights.weight), \n",
    "                            replace=False)\n",
    "    \n",
    "    return recs.tolist()"
   ],
   "execution_count": 16,
   "outputs": []
  },
  {
   "cell_type": "code",
   "metadata": {
    "id": "nK_AS3tmC8Y7",
    "colab_type": "code",
    "colab": {},
    "ExecuteTime": {
     "end_time": "2023-07-29T20:40:40.760146615Z",
     "start_time": "2023-07-29T20:40:40.715365200Z"
    }
   },
   "source": [
    "%%time\n",
    "items_weights = pd.DataFrame(data.item_id.value_counts(normalize=True).reset_index().values, \n",
    "                             columns=['item_id', 'weight'])\n",
    "\n",
    "weighted_random_recommendation(items_weights, n=5)"
   ],
   "execution_count": 17,
   "outputs": [
    {
     "name": "stdout",
     "output_type": "stream",
     "text": [
      "CPU times: user 115 ms, sys: 44.2 ms, total: 159 ms\n",
      "Wall time: 157 ms\n"
     ]
    },
    {
     "data": {
      "text/plain": "[10724, 8743, 2857, 4637, 16]"
     },
     "execution_count": 17,
     "metadata": {},
     "output_type": "execute_result"
    }
   ]
  },
  {
   "cell_type": "markdown",
   "metadata": {
    "id": "hyNG6O-wC8Y_",
    "colab_type": "text"
   },
   "source": [
    "### Задание 2. Расчет метрик\n",
    "Рассчитайте Precision@5 для каждого алгоритма с помощью функции из вебинара 1. Какой алгоритм показывает лучшее качество?"
   ]
  },
  {
   "cell_type": "code",
   "metadata": {
    "id": "36HtRgm8C8ZA",
    "colab_type": "code",
    "colab": {},
    "outputId": "971ccba1-6f06-4ac8-fd2d-10ba527e0fe5",
    "ExecuteTime": {
     "end_time": "2023-07-29T20:45:06.270458149Z",
     "start_time": "2023-07-29T20:45:06.197983808Z"
    }
   },
   "source": [
    "result = pd.read_csv('./predictions_basic.csv')\n",
    "result.head(2)"
   ],
   "execution_count": 31,
   "outputs": [
    {
     "data": {
      "text/plain": "   user_id                                             actual  \\\n0        1  [  821867   834484   856942   865456   889248 ...   \n1        3  [  835476   851057   872021   878302   879948 ...   \n\n                          random_recommendation  \\\n0  [5586238, 1015228, 866118, 2416733, 2603573]   \n1    [161354, 63027, 1027802, 12263694, 307395]   \n\n                          popular_recommendation  \\\n0  [6534178, 6533889, 1029743, 6534166, 1082185]   \n1  [6534178, 6533889, 1029743, 6534166, 1082185]   \n\n                                     itemitem  \\\n0  [981760, 1127831, 1098066, 826249, 878996]   \n1   [981760, 995242, 1029743, 840361, 961554]   \n\n                                        cosine  \\\n0   [981760, 1127831, 1098066, 878996, 826249]   \n1  [981760, 1004906, 961554, 1096036, 1080414]   \n\n                                        tfidf  \\\n0  [981760, 1127831, 1098066, 826249, 878996]   \n1  [981760, 1004906, 859075, 1096036, 961554]   \n\n                                  own_purchases  \n0   [999999, 1082185, 1029743, 995785, 1004906]  \n1  [999999, 1082185, 1098066, 6534178, 1127831]  ",
      "text/html": "<div>\n<style scoped>\n    .dataframe tbody tr th:only-of-type {\n        vertical-align: middle;\n    }\n\n    .dataframe tbody tr th {\n        vertical-align: top;\n    }\n\n    .dataframe thead th {\n        text-align: right;\n    }\n</style>\n<table border=\"1\" class=\"dataframe\">\n  <thead>\n    <tr style=\"text-align: right;\">\n      <th></th>\n      <th>user_id</th>\n      <th>actual</th>\n      <th>random_recommendation</th>\n      <th>popular_recommendation</th>\n      <th>itemitem</th>\n      <th>cosine</th>\n      <th>tfidf</th>\n      <th>own_purchases</th>\n    </tr>\n  </thead>\n  <tbody>\n    <tr>\n      <th>0</th>\n      <td>1</td>\n      <td>[  821867   834484   856942   865456   889248 ...</td>\n      <td>[5586238, 1015228, 866118, 2416733, 2603573]</td>\n      <td>[6534178, 6533889, 1029743, 6534166, 1082185]</td>\n      <td>[981760, 1127831, 1098066, 826249, 878996]</td>\n      <td>[981760, 1127831, 1098066, 878996, 826249]</td>\n      <td>[981760, 1127831, 1098066, 826249, 878996]</td>\n      <td>[999999, 1082185, 1029743, 995785, 1004906]</td>\n    </tr>\n    <tr>\n      <th>1</th>\n      <td>3</td>\n      <td>[  835476   851057   872021   878302   879948 ...</td>\n      <td>[161354, 63027, 1027802, 12263694, 307395]</td>\n      <td>[6534178, 6533889, 1029743, 6534166, 1082185]</td>\n      <td>[981760, 995242, 1029743, 840361, 961554]</td>\n      <td>[981760, 1004906, 961554, 1096036, 1080414]</td>\n      <td>[981760, 1004906, 859075, 1096036, 961554]</td>\n      <td>[999999, 1082185, 1098066, 6534178, 1127831]</td>\n    </tr>\n  </tbody>\n</table>\n</div>"
     },
     "execution_count": 31,
     "metadata": {},
     "output_type": "execute_result"
    }
   ]
  },
  {
   "cell_type": "code",
   "metadata": {
    "id": "_0cu0VeTC8ZD",
    "colab_type": "code",
    "colab": {},
    "ExecuteTime": {
     "end_time": "2023-07-29T20:44:17.536725237Z",
     "start_time": "2023-07-29T20:44:17.525173567Z"
    }
   },
   "source": [
    "def precision_at_k(recommended_list, bought_list, k=5):\n",
    "    bought_list = np.array(bought_list)\n",
    "    recommended_list = np.array(recommended_list)\n",
    "        \n",
    "    return np.sum(np.isin(bought_list, recommended_list[:k])) / len(recommended_list[:k])   "
   ],
   "execution_count": 26,
   "outputs": []
  },
  {
   "cell_type": "code",
   "execution_count": 33,
   "outputs": [],
   "source": [
    "for col in result.columns[1:]:\n",
    "    result[col] = [np.array(re.findall('\\d+', x), dtype=np.uintc) for x in result[col]]"
   ],
   "metadata": {
    "collapsed": false,
    "ExecuteTime": {
     "end_time": "2023-07-29T20:45:12.243367466Z",
     "start_time": "2023-07-29T20:45:12.121049366Z"
    }
   }
  },
  {
   "cell_type": "code",
   "execution_count": 34,
   "outputs": [
    {
     "name": "stdout",
     "output_type": "stream",
     "text": [
      "Precistion@K random_recommendation = 0.0005876591576885408\n",
      "Precistion@K popular_recommendation = 0.15523996082272282\n",
      "Precistion@K itemitem = 0.03359451518119491\n",
      "Precistion@K cosine = 0.03525954946131244\n",
      "Precistion@K tfidf = 0.036141038197845254\n",
      "Precistion@K own_purchases = 0.17998694090760692\n"
     ]
    }
   ],
   "source": [
    "# TEST\n",
    "fact = result['actual']\n",
    "for col in result.columns[2:]:\n",
    "    lr = []\n",
    "    for rec, act in zip(result[col], fact):\n",
    "        lr.append(precision_at_k(rec, act, k=5))\n",
    "    prec=pd.Series(lr).mean()\n",
    "    print(f'Precistion@K {col} = {prec}')"
   ],
   "metadata": {
    "collapsed": false,
    "ExecuteTime": {
     "end_time": "2023-07-29T20:45:14.001184480Z",
     "start_time": "2023-07-29T20:45:13.599039623Z"
    }
   }
  },
  {
   "cell_type": "markdown",
   "metadata": {
    "id": "igDU0j1cC8ZH",
    "colab_type": "text"
   },
   "source": [
    "### Задание 3*. Улучшение бейзлайнов и ItemItem\n",
    "\n",
    "- Попробуйте улучшить бейзлайны, считая их на топ-5000 товаров\n",
    "- Попробуйте улучшить разные варианты ItemItemRecommender, выбирая число соседей $K$."
   ]
  },
  {
   "cell_type": "code",
   "metadata": {
    "id": "zYBR3cMPC8ZH",
    "colab_type": "code",
    "colab": {},
    "ExecuteTime": {
     "end_time": "2023-07-29T20:47:16.938059152Z",
     "start_time": "2023-07-29T20:47:16.895233570Z"
    }
   },
   "source": [
    "# your_code"
   ],
   "execution_count": 35,
   "outputs": []
  }
 ]
}
