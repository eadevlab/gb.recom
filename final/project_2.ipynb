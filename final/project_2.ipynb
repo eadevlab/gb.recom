{
 "nbformat": 4,
 "nbformat_minor": 0,
 "metadata": {
  "colab": {
   "provenance": [],
   "machine_shape": "hm",
   "gpuType": "T4"
  },
  "kernelspec": {
   "name": "python3",
   "language": "python",
   "display_name": "Python 3 (ipykernel)"
  },
  "language_info": {
   "name": "python"
  },
  "accelerator": "GPU",
  "gpuClass": "standard",
  "widgets": {
   "application/vnd.jupyter.widget-state+json": {
    "ba24de1b622141cc93d12d29777accdb": {
     "model_module": "@jupyter-widgets/controls",
     "model_name": "HBoxModel",
     "model_module_version": "1.5.0",
     "state": {
      "_dom_classes": [],
      "_model_module": "@jupyter-widgets/controls",
      "_model_module_version": "1.5.0",
      "_model_name": "HBoxModel",
      "_view_count": null,
      "_view_module": "@jupyter-widgets/controls",
      "_view_module_version": "1.5.0",
      "_view_name": "HBoxView",
      "box_style": "",
      "children": [
       "IPY_MODEL_28ca30e1fab14c1c8456b287b0fc2576",
       "IPY_MODEL_6d159149a06e4d269cf353d5738c62c1",
       "IPY_MODEL_091d32fc90314901a57e3c85b05e2a1a"
      ],
      "layout": "IPY_MODEL_fbb95d7389b24c86a747b7b07bdea52d"
     }
    },
    "28ca30e1fab14c1c8456b287b0fc2576": {
     "model_module": "@jupyter-widgets/controls",
     "model_name": "HTMLModel",
     "model_module_version": "1.5.0",
     "state": {
      "_dom_classes": [],
      "_model_module": "@jupyter-widgets/controls",
      "_model_module_version": "1.5.0",
      "_model_name": "HTMLModel",
      "_view_count": null,
      "_view_module": "@jupyter-widgets/controls",
      "_view_module_version": "1.5.0",
      "_view_name": "HTMLView",
      "description": "",
      "description_tooltip": null,
      "layout": "IPY_MODEL_9ab56bee9a2746709aeddbb977dbda49",
      "placeholder": "​",
      "style": "IPY_MODEL_78c9feef9a6d467a8a844d336bf859dc",
      "value": "100%"
     }
    },
    "6d159149a06e4d269cf353d5738c62c1": {
     "model_module": "@jupyter-widgets/controls",
     "model_name": "FloatProgressModel",
     "model_module_version": "1.5.0",
     "state": {
      "_dom_classes": [],
      "_model_module": "@jupyter-widgets/controls",
      "_model_module_version": "1.5.0",
      "_model_name": "FloatProgressModel",
      "_view_count": null,
      "_view_module": "@jupyter-widgets/controls",
      "_view_module_version": "1.5.0",
      "_view_name": "ProgressView",
      "bar_style": "success",
      "description": "",
      "description_tooltip": null,
      "layout": "IPY_MODEL_43f7df10665a47a7923a9cafe07ddb13",
      "max": 100,
      "min": 0,
      "orientation": "horizontal",
      "style": "IPY_MODEL_e0c29e9187a04f7d978a708b460052b0",
      "value": 100
     }
    },
    "091d32fc90314901a57e3c85b05e2a1a": {
     "model_module": "@jupyter-widgets/controls",
     "model_name": "HTMLModel",
     "model_module_version": "1.5.0",
     "state": {
      "_dom_classes": [],
      "_model_module": "@jupyter-widgets/controls",
      "_model_module_version": "1.5.0",
      "_model_name": "HTMLModel",
      "_view_count": null,
      "_view_module": "@jupyter-widgets/controls",
      "_view_module_version": "1.5.0",
      "_view_name": "HTMLView",
      "description": "",
      "description_tooltip": null,
      "layout": "IPY_MODEL_4d8b00138646494cbead61594d5d167d",
      "placeholder": "​",
      "style": "IPY_MODEL_159c1376e6a54c7dad46c020c23673b9",
      "value": " 100/100 [00:08&lt;00:00, 12.24it/s, loss=0.0101]"
     }
    },
    "fbb95d7389b24c86a747b7b07bdea52d": {
     "model_module": "@jupyter-widgets/base",
     "model_name": "LayoutModel",
     "model_module_version": "1.2.0",
     "state": {
      "_model_module": "@jupyter-widgets/base",
      "_model_module_version": "1.2.0",
      "_model_name": "LayoutModel",
      "_view_count": null,
      "_view_module": "@jupyter-widgets/base",
      "_view_module_version": "1.2.0",
      "_view_name": "LayoutView",
      "align_content": null,
      "align_items": null,
      "align_self": null,
      "border": null,
      "bottom": null,
      "display": null,
      "flex": null,
      "flex_flow": null,
      "grid_area": null,
      "grid_auto_columns": null,
      "grid_auto_flow": null,
      "grid_auto_rows": null,
      "grid_column": null,
      "grid_gap": null,
      "grid_row": null,
      "grid_template_areas": null,
      "grid_template_columns": null,
      "grid_template_rows": null,
      "height": null,
      "justify_content": null,
      "justify_items": null,
      "left": null,
      "margin": null,
      "max_height": null,
      "max_width": null,
      "min_height": null,
      "min_width": null,
      "object_fit": null,
      "object_position": null,
      "order": null,
      "overflow": null,
      "overflow_x": null,
      "overflow_y": null,
      "padding": null,
      "right": null,
      "top": null,
      "visibility": null,
      "width": null
     }
    },
    "9ab56bee9a2746709aeddbb977dbda49": {
     "model_module": "@jupyter-widgets/base",
     "model_name": "LayoutModel",
     "model_module_version": "1.2.0",
     "state": {
      "_model_module": "@jupyter-widgets/base",
      "_model_module_version": "1.2.0",
      "_model_name": "LayoutModel",
      "_view_count": null,
      "_view_module": "@jupyter-widgets/base",
      "_view_module_version": "1.2.0",
      "_view_name": "LayoutView",
      "align_content": null,
      "align_items": null,
      "align_self": null,
      "border": null,
      "bottom": null,
      "display": null,
      "flex": null,
      "flex_flow": null,
      "grid_area": null,
      "grid_auto_columns": null,
      "grid_auto_flow": null,
      "grid_auto_rows": null,
      "grid_column": null,
      "grid_gap": null,
      "grid_row": null,
      "grid_template_areas": null,
      "grid_template_columns": null,
      "grid_template_rows": null,
      "height": null,
      "justify_content": null,
      "justify_items": null,
      "left": null,
      "margin": null,
      "max_height": null,
      "max_width": null,
      "min_height": null,
      "min_width": null,
      "object_fit": null,
      "object_position": null,
      "order": null,
      "overflow": null,
      "overflow_x": null,
      "overflow_y": null,
      "padding": null,
      "right": null,
      "top": null,
      "visibility": null,
      "width": null
     }
    },
    "78c9feef9a6d467a8a844d336bf859dc": {
     "model_module": "@jupyter-widgets/controls",
     "model_name": "DescriptionStyleModel",
     "model_module_version": "1.5.0",
     "state": {
      "_model_module": "@jupyter-widgets/controls",
      "_model_module_version": "1.5.0",
      "_model_name": "DescriptionStyleModel",
      "_view_count": null,
      "_view_module": "@jupyter-widgets/base",
      "_view_module_version": "1.2.0",
      "_view_name": "StyleView",
      "description_width": ""
     }
    },
    "43f7df10665a47a7923a9cafe07ddb13": {
     "model_module": "@jupyter-widgets/base",
     "model_name": "LayoutModel",
     "model_module_version": "1.2.0",
     "state": {
      "_model_module": "@jupyter-widgets/base",
      "_model_module_version": "1.2.0",
      "_model_name": "LayoutModel",
      "_view_count": null,
      "_view_module": "@jupyter-widgets/base",
      "_view_module_version": "1.2.0",
      "_view_name": "LayoutView",
      "align_content": null,
      "align_items": null,
      "align_self": null,
      "border": null,
      "bottom": null,
      "display": null,
      "flex": null,
      "flex_flow": null,
      "grid_area": null,
      "grid_auto_columns": null,
      "grid_auto_flow": null,
      "grid_auto_rows": null,
      "grid_column": null,
      "grid_gap": null,
      "grid_row": null,
      "grid_template_areas": null,
      "grid_template_columns": null,
      "grid_template_rows": null,
      "height": null,
      "justify_content": null,
      "justify_items": null,
      "left": null,
      "margin": null,
      "max_height": null,
      "max_width": null,
      "min_height": null,
      "min_width": null,
      "object_fit": null,
      "object_position": null,
      "order": null,
      "overflow": null,
      "overflow_x": null,
      "overflow_y": null,
      "padding": null,
      "right": null,
      "top": null,
      "visibility": null,
      "width": null
     }
    },
    "e0c29e9187a04f7d978a708b460052b0": {
     "model_module": "@jupyter-widgets/controls",
     "model_name": "ProgressStyleModel",
     "model_module_version": "1.5.0",
     "state": {
      "_model_module": "@jupyter-widgets/controls",
      "_model_module_version": "1.5.0",
      "_model_name": "ProgressStyleModel",
      "_view_count": null,
      "_view_module": "@jupyter-widgets/base",
      "_view_module_version": "1.2.0",
      "_view_name": "StyleView",
      "bar_color": null,
      "description_width": ""
     }
    },
    "4d8b00138646494cbead61594d5d167d": {
     "model_module": "@jupyter-widgets/base",
     "model_name": "LayoutModel",
     "model_module_version": "1.2.0",
     "state": {
      "_model_module": "@jupyter-widgets/base",
      "_model_module_version": "1.2.0",
      "_model_name": "LayoutModel",
      "_view_count": null,
      "_view_module": "@jupyter-widgets/base",
      "_view_module_version": "1.2.0",
      "_view_name": "LayoutView",
      "align_content": null,
      "align_items": null,
      "align_self": null,
      "border": null,
      "bottom": null,
      "display": null,
      "flex": null,
      "flex_flow": null,
      "grid_area": null,
      "grid_auto_columns": null,
      "grid_auto_flow": null,
      "grid_auto_rows": null,
      "grid_column": null,
      "grid_gap": null,
      "grid_row": null,
      "grid_template_areas": null,
      "grid_template_columns": null,
      "grid_template_rows": null,
      "height": null,
      "justify_content": null,
      "justify_items": null,
      "left": null,
      "margin": null,
      "max_height": null,
      "max_width": null,
      "min_height": null,
      "min_width": null,
      "object_fit": null,
      "object_position": null,
      "order": null,
      "overflow": null,
      "overflow_x": null,
      "overflow_y": null,
      "padding": null,
      "right": null,
      "top": null,
      "visibility": null,
      "width": null
     }
    },
    "159c1376e6a54c7dad46c020c23673b9": {
     "model_module": "@jupyter-widgets/controls",
     "model_name": "DescriptionStyleModel",
     "model_module_version": "1.5.0",
     "state": {
      "_model_module": "@jupyter-widgets/controls",
      "_model_module_version": "1.5.0",
      "_model_name": "DescriptionStyleModel",
      "_view_count": null,
      "_view_module": "@jupyter-widgets/base",
      "_view_module_version": "1.2.0",
      "_view_name": "StyleView",
      "description_width": ""
     }
    }
   }
  }
 },
 "cells": [
  {
   "cell_type": "markdown",
   "source": [
    "## Курсовой проект \"Рекомедательные системы\""
   ],
   "metadata": {
    "collapsed": false
   }
  },
  {
   "cell_type": "markdown",
   "source": [
    "**Основное**\n",
    "- Целевая метрика precision@5\n",
    "- Бейзлайн решения - [MainRecommender](https://github.com/geangohn/recsys-tutorial/blob/master/src/recommenders.py)\n",
    "- Сдаем ссылку на github с решением. На github должен быть файл recommendations.csv (user_id | [rec_1, rec_2, ...] с рекомендациями. rec_i - реальные id item-ов (из retail_train.csv)\n",
    "\n",
    "**Hints:** \n",
    "\n",
    "Сначала просто попробуйте разные параметры MainRecommender:  \n",
    "- N в топ-N товарах при формировании user-item матирцы (сейчас топ-5000)  \n",
    "- Различные веса в user-item матрице (0/1, кол-во покупок, log(кол-во покупок + 1), сумма покупки, ...)  \n",
    "- Разные взвешивания матрицы (TF-IDF, BM25 - у него есть параметры)  \n",
    "- Разные смешивания рекомендаций (обратите внимание на бейзлайн - прошлые покупки юзера)  \n",
    "\n",
    "Сделайте MVP - минимально рабочий продукт - (пусть даже top-popular), а потом его улучшайте\n",
    "\n",
    "Если вы делаете двухуровневую модель - следите за валидацией "
   ],
   "metadata": {
    "collapsed": false
   }
  },
  {
   "cell_type": "code",
   "execution_count": 1,
   "metadata": {
    "id": "vBKlN8sY1wia",
    "ExecuteTime": {
     "end_time": "2023-09-03T19:00:39.540586973Z",
     "start_time": "2023-09-03T19:00:36.890349260Z"
    }
   },
   "outputs": [
    {
     "name": "stderr",
     "output_type": "stream",
     "text": [
      "/home/eugene/study/gb.recom/venv/lib/python3.8/site-packages/tqdm/auto.py:21: TqdmWarning: IProgress not found. Please update jupyter and ipywidgets. See https://ipywidgets.readthedocs.io/en/stable/user_install.html\n",
      "  from .autonotebook import tqdm as notebook_tqdm\n"
     ]
    }
   ],
   "source": [
    "import numpy as np\n",
    "import pandas as pd\n",
    "from matplotlib import pyplot as plt\n",
    "\n",
    "from scipy.sparse import csr_matrix\n",
    "import re\n",
    "\n",
    "from implicit.als import AlternatingLeastSquares\n",
    "\n",
    "from sklearn.model_selection import train_test_split\n",
    "from sklearn.preprocessing import StandardScaler\n",
    "from sklearn.metrics import classification_report, precision_recall_curve, ConfusionMatrixDisplay\n",
    "\n",
    "from catboost import CatBoostClassifier\n",
    "\n",
    "import warnings\n",
    "warnings.simplefilter('ignore')"
   ]
  },
  {
   "cell_type": "code",
   "execution_count": 2,
   "outputs": [],
   "source": [
    "DATASET_PATH_RETAIL = 'data/retail_train.csv'\n",
    "DATASET_PATH_PRODUCT = 'data/product.csv'\n",
    "DATASET_PATH_DEMOGRAPHIC = 'data/hh_demographic.csv'"
   ],
   "metadata": {
    "collapsed": false,
    "ExecuteTime": {
     "end_time": "2023-09-03T19:00:39.560685342Z",
     "start_time": "2023-09-03T19:00:39.555994854Z"
    }
   }
  },
  {
   "cell_type": "code",
   "source": [
    "def recall_at_k(recommended_list, bought_list, k):\n",
    "  recommended_list = np.array(recommended_list)[:k]\n",
    "  bought_list = np.array(bought_list)\n",
    "\n",
    "  recall = np.isin(recommended_list, bought_list).sum() / len(bought_list)\n",
    "\n",
    "  return recall"
   ],
   "metadata": {
    "id": "kM5c-jFcf-3v",
    "ExecuteTime": {
     "end_time": "2023-09-03T19:00:39.569121152Z",
     "start_time": "2023-09-03T19:00:39.557175385Z"
    }
   },
   "execution_count": 3,
   "outputs": []
  },
  {
   "cell_type": "code",
   "source": [
    "def precision_at_k(recommended_list, bought_list, k):\n",
    "  recommended_list = np.array(recommended_list)[:k]\n",
    "  bought_list = np.array(bought_list)\n",
    "\n",
    "  precision = np.isin(recommended_list, bought_list).sum() / len(recommended_list)\n",
    "\n",
    "  return precision"
   ],
   "metadata": {
    "id": "GXFd6wUff_Gh",
    "ExecuteTime": {
     "end_time": "2023-09-03T19:00:39.614257711Z",
     "start_time": "2023-09-03T19:00:39.569588601Z"
    }
   },
   "execution_count": 4,
   "outputs": []
  },
  {
   "cell_type": "code",
   "source": [
    "def ndcg_at_k(recommended_list, bought_list, k):\n",
    "  recommended_list = np.array(recommended_list)[:k]\n",
    "  bought_list = np.array(bought_list)\n",
    "\n",
    "  flags = np.isin(recommended_list, bought_list)\n",
    "  ideal_flags = np.ones(len(flags))\n",
    "\n",
    "  # DCG@K\n",
    "  dcg_at_k_list = []\n",
    "\n",
    "  for n, i in enumerate(flags, 1):\n",
    "    if n <= 2:\n",
    "      dcg_at_k_list.append(i / n)\n",
    "\n",
    "    if n > 2:\n",
    "      dcg_at_k_list.append(i / np.log(n))\n",
    "\n",
    "  ideal_dcg_at_k_list = []\n",
    "\n",
    "  # idealDCG@K\n",
    "  for n, i in enumerate(ideal_flags, 1):\n",
    "    if n <= 2:\n",
    "      ideal_dcg_at_k_list.append(i / n)\n",
    "\n",
    "    if n > 2:\n",
    "      ideal_dcg_at_k_list.append(i / np.log(n))\n",
    "\n",
    "  dcg_at_k = (1 / len(flags)) * sum(dcg_at_k_list)\n",
    "  ideal_dcg_at_k = (1 / len(flags)) * sum(ideal_dcg_at_k_list)\n",
    "\n",
    "  result = dcg_at_k / ideal_dcg_at_k\n",
    "\n",
    "  return result"
   ],
   "metadata": {
    "id": "Hn1pk6uIlOCl",
    "ExecuteTime": {
     "end_time": "2023-09-03T19:00:39.654718939Z",
     "start_time": "2023-09-03T19:00:39.580344966Z"
    }
   },
   "execution_count": 5,
   "outputs": []
  },
  {
   "cell_type": "code",
   "source": [
    "data = pd.read_csv(DATASET_PATH_RETAIL, sep=',').iloc[int(1e6):]\n",
    "item_features = pd.read_csv(DATASET_PATH_PRODUCT, sep=',')\n",
    "user_features = pd.read_csv(DATASET_PATH_DEMOGRAPHIC, sep=',')"
   ],
   "metadata": {
    "id": "yd2LT953f7wx",
    "ExecuteTime": {
     "end_time": "2023-09-03T19:00:43.601137199Z",
     "start_time": "2023-09-03T19:00:39.594879968Z"
    }
   },
   "execution_count": 6,
   "outputs": []
  },
  {
   "cell_type": "code",
   "source": [
    "item_features.columns = [col.lower() for col in item_features.columns.tolist()]\n",
    "user_features.columns = [col.lower() for col in user_features.columns.tolist()]\n",
    "\n",
    "item_features.rename(columns={'product_id': 'item_id'}, inplace=True)\n",
    "user_features.rename(columns={'household_key': 'user_id'}, inplace=True)"
   ],
   "metadata": {
    "id": "cWKn95Txol5K",
    "ExecuteTime": {
     "end_time": "2023-09-03T19:00:43.602272892Z",
     "start_time": "2023-09-03T19:00:43.502307230Z"
    }
   },
   "execution_count": 7,
   "outputs": []
  },
  {
   "cell_type": "code",
   "source": [
    "class FirstStage():\n",
    "  def __init__(self, data):\n",
    "    self.train_lvl_1, self.valid_lvl_1, \\\n",
    "      self.valid_lvl_1_u_i, self.valid_lvl_2 = self.split_data(data)\n",
    "\n",
    "    self.user_item_matrix = self.prepare_matrix(self.train_lvl_1)\n",
    "    self.sparse_user_item = self.prepare_csr_matrix(self.user_item_matrix)\n",
    "\n",
    "    self.new_to_old_user_ids, self.new_to_old_item_ids, \\\n",
    "      self.old_to_new_user_ids, self.old_to_new_item_ids = self.prepare_dicts(self.user_item_matrix)\n",
    "\n",
    "    self.als = self.initialize_als(self.sparse_user_item)\n",
    "\n",
    "  @staticmethod\n",
    "  def split_data(data):\n",
    "\n",
    "    val_lvl_1_split_week = 6\n",
    "    val_lvl_2_split_week = 3\n",
    "\n",
    "    # Входит все, что раньще первых 86 недель\n",
    "    train_lvl_1 = data[data['week_no'] < data['week_no'].max() - (val_lvl_1_split_week + val_lvl_2_split_week)]\n",
    "\n",
    "    # Входит все, что от 86 недели до 91\n",
    "    valid_lvl_1 = data[(data['week_no'] >= data['week_no'].max() - (val_lvl_1_split_week + val_lvl_2_split_week)) &\n",
    "                      (data['week_no'] < data['week_no'].max() - val_lvl_2_split_week)]\n",
    "\n",
    "    valid_lvl_1 = valid_lvl_1[valid_lvl_1['user_id'].isin(train_lvl_1['user_id']).values.tolist()]\n",
    "    valid_lvl_1_u_i = valid_lvl_1.groupby('user_id')['item_id'].unique().reset_index()\n",
    "\n",
    "    # Входит все, что от 92 недели до 95\n",
    "    valid_lvl_2 = data[data['week_no'] >= data['week_no'].max() - val_lvl_2_split_week]\n",
    "    valid_lvl_2 = valid_lvl_2[valid_lvl_2['user_id'].isin(train_lvl_1['user_id']).values.tolist()]\n",
    "\n",
    "\n",
    "    return train_lvl_1, valid_lvl_1, valid_lvl_1_u_i, valid_lvl_2\n",
    "\n",
    "  @staticmethod\n",
    "  def prepare_dicts(user_item_matrix):\n",
    "    old_user_ids = user_item_matrix.index.tolist()\n",
    "    old_item_ids = user_item_matrix.columns.tolist()\n",
    "\n",
    "    new_user_ids = np.arange(len(old_user_ids))\n",
    "    new_item_ids = np.arange(len(old_item_ids))\n",
    "\n",
    "    new_to_old_user_ids = dict(zip(new_user_ids, old_user_ids))\n",
    "    new_to_old_item_ids = dict(zip(new_item_ids, old_item_ids))\n",
    "\n",
    "    old_to_new_user_ids = dict(zip(old_user_ids, new_user_ids))\n",
    "    old_to_new_item_ids = dict(zip(old_item_ids, new_item_ids))\n",
    "\n",
    "    return new_to_old_user_ids, new_to_old_item_ids,  old_to_new_user_ids, \\\n",
    "      old_to_new_item_ids\n",
    "\n",
    "  @staticmethod\n",
    "  def prepare_matrix(train_data_lvl_1):\n",
    "    top_5000 = train_data_lvl_1.groupby('item_id')['quantity'].sum().reset_index()\n",
    "    top_5000.sort_values(by='quantity', ascending=False, inplace=True)\n",
    "    top_5000 = top_5000['item_id'].values.tolist()[:5000]\n",
    "\n",
    "    train_data_lvl_1.loc[~train_data_lvl_1['item_id'].isin(top_5000), 'item_id'] = 999999\n",
    "\n",
    "    user_item_matrix = pd.pivot_table(train_data_lvl_1,\n",
    "                                  index='user_id',\n",
    "                                  columns='item_id',\n",
    "                                  values='quantity',\n",
    "                                  aggfunc='sum',\n",
    "                                  fill_value=0)\n",
    "\n",
    "    user_item_matrix[user_item_matrix > 0] = 1\n",
    "    user_item_matrix = user_item_matrix.astype(float)\n",
    "\n",
    "    return user_item_matrix\n",
    "\n",
    "\n",
    "  @staticmethod\n",
    "  def prepare_csr_matrix(user_item_matrix):\n",
    "    return csr_matrix(user_item_matrix).tocsr()\n",
    "\n",
    "  @staticmethod\n",
    "  def initialize_als(sparse_user_item):\n",
    "    model = AlternatingLeastSquares(factors=500,\n",
    "                                regularization=1e-3,\n",
    "                                iterations=100,\n",
    "                                num_threads=6,\n",
    "                                calculate_training_loss=True,\n",
    "                                random_state=42)\n",
    "\n",
    "    model.fit(sparse_user_item, show_progress=True)\n",
    "\n",
    "    return model\n",
    "\n",
    "  def recommend(self, valid_lvl_1_u_i):\n",
    "    valid_lvl_1_u_i['als'] = valid_lvl_1_u_i['user_id'].\\\n",
    "             apply(lambda x: [self.new_to_old_item_ids[rec] for rec in \\\n",
    "                              self.als.recommend(userid=self.old_to_new_user_ids[x],\n",
    "                                                        user_items=self.sparse_user_item[self.old_to_new_user_ids[x]],\n",
    "                                                        N=300,\n",
    "                                                        filter_already_liked_items=False,\n",
    "                                                        filter_items=[self.old_to_new_item_ids[999999]],\n",
    "                                                        recalculate_user=True)[0]])\n",
    "\n",
    "    return valid_lvl_1_u_i\n",
    "\n",
    "\n",
    "# Чтобы обращаться к аттрибутам класса FirstStage, нужно в класс SecondStage передать\n",
    "# FirstStage, в ините класса SecondStage указать переменную вызываемого класса (first_stage) и через нее\n",
    "# вызывать аттрибуты класса FirstStage\n",
    "class SecondStage(FirstStage):\n",
    "  def __init__(self, first_stage):\n",
    "    self.scaler = StandardScaler()\n",
    "\n",
    "\n",
    "    self.valid_lvl_2 = first_stage.valid_lvl_2\n",
    "    self.train_lvl_2 = first_stage.train_lvl_1.copy()\n",
    "\n",
    "    self.users_lvl_2 = pd.DataFrame(self.train_lvl_2['user_id'].unique(), columns=['user_id'])\n",
    "\n",
    "    self.sparse_user_item = first_stage.sparse_user_item\n",
    "\n",
    "\n",
    "    self.new_to_old_user_ids, self.new_to_old_item_ids, \\\n",
    "      self.old_to_new_user_ids, self.old_to_new_item_ids = \\\n",
    "    first_stage.new_to_old_user_ids, first_stage.new_to_old_item_ids, \\\n",
    "      first_stage.old_to_new_user_ids, first_stage.old_to_new_item_ids\n",
    "\n",
    "    self.als = first_stage.als\n",
    "\n",
    "    self.raw_data_for_cls = self.prepare_raw_data_for_cls(self.users_lvl_2)\n",
    "\n",
    "    self.data_to_classify = self.data_processing(self.raw_data_for_cls)\n",
    "\n",
    "    self.scaled_data = self.scale_data(self.data_to_classify)\n",
    "\n",
    "    self.X_train, self.X_valid, self.y_train, self.y_valid = self.split_data(self.scaled_data)\n",
    "\n",
    "    self.catb = self.initialize_catboost(self.X_train, self.y_train)\n",
    "\n",
    "\n",
    "  def prepare_raw_data_for_cls(self, users_lvl_2, return_candidates=False):\n",
    "    users_lvl_2['candidates'] = users_lvl_2['user_id'].\\\n",
    "             apply(lambda x: [self.new_to_old_item_ids[rec] for rec in \\\n",
    "                              self.als.recommend(userid=self.old_to_new_user_ids[x],\n",
    "                                                        user_items=self.sparse_user_item[self.old_to_new_user_ids[x]],\n",
    "                                                        N=300,\n",
    "                                                        filter_already_liked_items=False,\n",
    "                                                        filter_items=[self.old_to_new_item_ids[999999]],\n",
    "                                                        recalculate_user=True)[0]])\n",
    "\n",
    "    s = users_lvl_2 .apply(lambda x: pd.Series(x['candidates']), axis=1).stack().reset_index(level=1, drop=True)\n",
    "    s.name='item_id'\n",
    "\n",
    "    users_lvl_2 .drop(columns=['candidates'], inplace=True)\n",
    "    users_lvl_2  = users_lvl_2.join(s)\n",
    "    users_lvl_2 ['flag'] = 1\n",
    "\n",
    "    targets_lvl_2 = self.train_lvl_2[['user_id', 'item_id']]\n",
    "\n",
    "    targets_lvl_2 = targets_lvl_2.merge(users_lvl_2 , on=['user_id', 'item_id'], how='left')\n",
    "    targets_lvl_2.rename(columns={'flag': 'target'}, inplace=True)\n",
    "\n",
    "    targets_lvl_2.fillna(0, inplace=True)\n",
    "\n",
    "    targets_lvl_2 = targets_lvl_2[targets_lvl_2['item_id']!=999999]\n",
    "\n",
    "    targets_lvl_2 = targets_lvl_2.merge(user_features, on='user_id', how='left')\n",
    "    targets_lvl_2 = targets_lvl_2.merge(item_features, on='item_id', how='left')\n",
    "\n",
    "    if return_candidates==True:\n",
    "        return targets_lvl_2, users_lvl_2\n",
    "\n",
    "    return targets_lvl_2\n",
    "\n",
    "\n",
    "  @staticmethod\n",
    "  def data_processing(raw_data_for_cls):\n",
    "\n",
    "    processing_data = raw_data_for_cls.copy()\n",
    "\n",
    "    # 1. Разбиение объектов рейнджа чисел на две колонки чисел\n",
    "    # split\n",
    "    processing_data.age_desc = processing_data.age_desc.apply(lambda x: str(x).split('-'))\n",
    "\n",
    "    processing_data[['age_desc_min', 'age_desc_max']] = pd.DataFrame(processing_data.age_desc.tolist(), index=processing_data.index)\n",
    "    processing_data.drop(columns='age_desc', inplace=True)\n",
    "\n",
    "    # age_desc_min\n",
    "    processing_data['age_desc_min'] = processing_data['age_desc_min'].apply(lambda x: x.split('+')[0] if '+' in x else x)\n",
    "    processing_data['age_desc_min'] = processing_data['age_desc_min'].apply(lambda x: None if x=='nan' else x)\n",
    "\n",
    "    age_desc_min_mode = processing_data.age_desc_min.mode()[0]\n",
    "    processing_data['age_desc_min'].fillna(age_desc_min_mode, inplace=True)\n",
    "\n",
    "    # age_desc_max\n",
    "    processing_data['age_desc_max'] = processing_data['age_desc_max'].apply(lambda x: None if x=='nan' else x)\n",
    "    age_desc_max_mode = processing_data['age_desc_max'].mode()[0]\n",
    "\n",
    "    processing_data['age_desc_max'].fillna(age_desc_max_mode, inplace=True)\n",
    "\n",
    "\n",
    "    # 2. Заполнение пропусков категориальных колонок модами этих колонок\n",
    "    # и небольшая очистка\n",
    "    obj_cols = ['marital_status_code', 'income_desc',\t'homeowner_desc', 'hh_comp_desc', 'household_size_desc',\t'kid_category_desc']\n",
    "    processing_data[obj_cols] = processing_data[obj_cols].fillna(processing_data.mode().iloc[0])\n",
    "\n",
    "    processing_data.loc[processing_data['kid_category_desc']=='None/Unknown', 'kid_category_desc'] = processing_data['kid_category_desc'].value_counts().index[1]\n",
    "\n",
    "    processing_data['household_size_desc'] = processing_data['household_size_desc'].apply(lambda x: '5' if '+' in x else x)\n",
    "    processing_data['kid_category_desc'] = processing_data['kid_category_desc'].apply(lambda x: '3' if '+' in x else x)\n",
    "\n",
    "    # 3. Преобразование категориальных признаков в количественные\n",
    "    processing_data['age_desc_min'] = processing_data['age_desc_min'].astype(int)\n",
    "    processing_data['age_desc_max'] = processing_data['age_desc_max'].astype(int)\n",
    "\n",
    "    processing_data[['household_size_desc',\t'kid_category_desc']] = processing_data[['household_size_desc',\t'kid_category_desc']].astype(int)\n",
    "\n",
    "    # OHE\n",
    "    cols_to_ohe = processing_data.select_dtypes('object').columns.tolist()\n",
    "    for col in cols_to_ohe:\n",
    "      processing_data = pd.concat([processing_data, pd.get_dummies(processing_data[col], prefix=col)], axis=1)\n",
    "\n",
    "    processing_data.drop(columns=cols_to_ohe, inplace=True)\n",
    "\n",
    "\n",
    "    return processing_data\n",
    "\n",
    "\n",
    "  # Масштабирование данных\n",
    "  def scale_data(self, data_to_classify):\n",
    "\n",
    "    scaling_data = data_to_classify.copy()\n",
    "\n",
    "    scaler_cols = scaling_data.select_dtypes(include=['int64']).drop(columns=['user_id', 'item_id']).columns.tolist()\n",
    "    scaling_data[scaler_cols] = self.scaler.fit_transform(scaling_data[scaler_cols])\n",
    "\n",
    "    return scaling_data\n",
    "\n",
    "\n",
    "  @staticmethod\n",
    "  # train_test_split\n",
    "  def split_data(scaled_data):\n",
    "\n",
    "    X = scaled_data.drop(columns='target')\n",
    "    X = X.rename(columns = lambda x:re.sub('[^A-Za-z0-9_]+', '', x))\n",
    "    X = X.iloc[:, ~X.columns.duplicated()]\n",
    "\n",
    "    y = scaled_data['target']\n",
    "    y = y.astype(int)\n",
    "\n",
    "    X_train, X_valid, y_train, y_valid = train_test_split(X, y, test_size=0.33,\n",
    "                                                          shuffle=True, random_state=42)\n",
    "\n",
    "    return X_train, X_valid, y_train, y_valid\n",
    "\n",
    "  @staticmethod\n",
    "  def initialize_catboost(X_train, y_train):\n",
    "    class_weights = {0: 10, 1: 1}\n",
    "\n",
    "    # Копия для искусственной генерации названия колонок\n",
    "    X_train_ = X_train.copy()\n",
    "    X_train_.columns = [np.arange(1, X_train_.shape[1]+1)]\n",
    "\n",
    "    catb = CatBoostClassifier(class_weights=class_weights,\n",
    "                          n_estimators=1000, max_depth=15, l2_leaf_reg=9, silent=True)\n",
    "    catb.fit(X_train_, y_train)\n",
    "\n",
    "    return catb\n",
    "\n",
    "# Порядок вызова классов (MRO)\n",
    "class GetRecommendations(SecondStage, FirstStage):\n",
    "  def __init__(self, first_stage, second_stage, data_pred):\n",
    "      self.valid_lvl_2 = first_stage.valid_lvl_2\n",
    "\n",
    "      self.sparse_user_item = first_stage.sparse_user_item\n",
    "\n",
    "      self.new_to_old_user_ids, self.new_to_old_item_ids, \\\n",
    "      self.old_to_new_user_ids, self.old_to_new_item_ids = \\\n",
    "        first_stage.new_to_old_user_ids, first_stage.new_to_old_item_ids, \\\n",
    "      first_stage.old_to_new_user_ids, first_stage.old_to_new_item_ids\n",
    "\n",
    "      self.als = first_stage.als\n",
    "\n",
    "      self.catb = second_stage.catb\n",
    "\n",
    "      self.scale_data = second_stage.scale_data\n",
    "\n",
    "      self.data_processing = second_stage.data_processing\n",
    "\n",
    "\n",
    "      # Аттрибуты фин. прогноза\n",
    "      self.pred_candidates = self.get_pred_candidates(self.valid_lvl_2)\n",
    "\n",
    "      self.pred_user_item = self.get_user_item(self.pred_candidates)\n",
    "\n",
    "      self.pred_data_to_classify = self.data_processing(self.pred_user_item)\n",
    "\n",
    "      self.pred_scaled_data = self.scale_data(self.pred_data_to_classify)\n",
    "\n",
    "      self.pred_recommendations = self.get_recommendations(self.pred_scaled_data)\n",
    "\n",
    "\n",
    "  # Формирование ранжирующего списка рекомендаций, исходя из прогнозов второй\n",
    "  # модели\n",
    "  def post_processing(self, user_id, data):\n",
    "    user_purchases = data[data['user_id']==user_id].drop_duplicates().reset_index()\n",
    "    top_proba_df = user_purchases.sort_values(by='proba', ascending=False)[:5]\n",
    "    top_proba_items = top_proba_df['item_id'].values.tolist()\n",
    "\n",
    "    return top_proba_items\n",
    "\n",
    "\n",
    "\n",
    "\n",
    "  def get_pred_candidates(self, valid_lvl_2):\n",
    "    users_pred = pd.DataFrame(valid_lvl_2['user_id'].unique())\n",
    "    users_pred.columns=['user_id']\n",
    "\n",
    "    # Получение списка кандидатов для users_pred\n",
    "    users_pred['candidates'] = users_pred['user_id'].\\\n",
    "                          apply(lambda x: [self.new_to_old_item_ids[rec] for rec in \\\n",
    "                                          fs.als.recommend(userid=self.old_to_new_user_ids[x],\n",
    "                                                          user_items = self.sparse_user_item[self.old_to_new_user_ids[x]],\n",
    "                                                          N=300,\n",
    "                                                          filter_already_liked_items=False,\n",
    "                                                          filter_items=[self.old_to_new_item_ids[999999]],\n",
    "                                                          recalculate_user=True)[0]])\n",
    "    return users_pred\n",
    "\n",
    "  @staticmethod\n",
    "  def get_user_item(pred_candidates):\n",
    "    s = pred_candidates.apply(lambda x: pd.Series(x['candidates']), axis=1).stack().reset_index(level=1, drop=True)\n",
    "    s.name = 'item_id'\n",
    "\n",
    "    users_pred = pred_candidates.drop(columns=['candidates'])\n",
    "    users_pred = users_pred.join(s)\n",
    "\n",
    "\n",
    "    users_pred = users_pred.merge(item_features, on='item_id', how='left')\n",
    "    users_pred = users_pred.merge(user_features, on='user_id', how='left')\n",
    "\n",
    "    return users_pred\n",
    "\n",
    "\n",
    "  def get_recommendations(self, scaled_data):\n",
    "      users_pred = scaled_data.iloc[:, :self.catb.n_features_in_]\n",
    "\n",
    "      # Копия для искусственной генерации названия колонок\n",
    "      users_pred_ = users_pred.copy()\n",
    "\n",
    "      users_pred_.columns=[np.arange(1, users_pred.shape[1]+1)]\n",
    "\n",
    "      recs = self.catb.predict_proba(users_pred_)[:, 1]\n",
    "\n",
    "      users_pred['proba'] = recs\n",
    "\n",
    "      valid_lvl_2_u_i = self.valid_lvl_2.groupby('user_id')['item_id'].unique().reset_index()\n",
    "      valid_lvl_2_u_i['recs'] = valid_lvl_2_u_i['user_id'].apply(lambda x: self.post_processing(x, users_pred))\n",
    "\n",
    "      return valid_lvl_2_u_i"
   ],
   "metadata": {
    "id": "55hcYboslOQv",
    "ExecuteTime": {
     "end_time": "2023-09-03T19:00:43.603342375Z",
     "start_time": "2023-09-03T19:00:43.511586307Z"
    }
   },
   "execution_count": 8,
   "outputs": []
  },
  {
   "cell_type": "code",
   "source": [
    "fs = FirstStage(data)"
   ],
   "metadata": {
    "colab": {
     "base_uri": "https://localhost:8080/",
     "height": 49,
     "referenced_widgets": [
      "ba24de1b622141cc93d12d29777accdb",
      "28ca30e1fab14c1c8456b287b0fc2576",
      "6d159149a06e4d269cf353d5738c62c1",
      "091d32fc90314901a57e3c85b05e2a1a",
      "fbb95d7389b24c86a747b7b07bdea52d",
      "9ab56bee9a2746709aeddbb977dbda49",
      "78c9feef9a6d467a8a844d336bf859dc",
      "43f7df10665a47a7923a9cafe07ddb13",
      "e0c29e9187a04f7d978a708b460052b0",
      "4d8b00138646494cbead61594d5d167d",
      "159c1376e6a54c7dad46c020c23673b9"
     ]
    },
    "id": "9arIZ8Yxmr4i",
    "outputId": "277ba0df-724c-45c3-fb71-df134e9f7c97",
    "ExecuteTime": {
     "end_time": "2023-09-03T19:03:39.923837013Z",
     "start_time": "2023-09-03T19:00:43.573847176Z"
    }
   },
   "execution_count": 9,
   "outputs": [
    {
     "name": "stderr",
     "output_type": "stream",
     "text": [
      "100%|██████████| 100/100 [02:52<00:00,  1.72s/it, loss=0.0101]\n"
     ]
    }
   ]
  },
  {
   "cell_type": "code",
   "source": [
    "valid_lvl_1_u_i = fs.recommend(fs.valid_lvl_1_u_i)"
   ],
   "metadata": {
    "id": "l9A5QhmOLfLA",
    "ExecuteTime": {
     "end_time": "2023-09-03T19:04:22.541164591Z",
     "start_time": "2023-09-03T19:03:39.897213629Z"
    }
   },
   "execution_count": 10,
   "outputs": []
  },
  {
   "cell_type": "code",
   "source": [
    "fs.valid_lvl_1_u_i.apply(lambda x: recall_at_k(x['als'], x['item_id'], k=300), axis=1).mean()"
   ],
   "metadata": {
    "colab": {
     "base_uri": "https://localhost:8080/"
    },
    "id": "NKvBlWrs2DNZ",
    "outputId": "51e76006-c243-45a1-8383-1cce53ec5587",
    "ExecuteTime": {
     "end_time": "2023-09-03T19:04:22.940359902Z",
     "start_time": "2023-09-03T19:04:22.540780114Z"
    }
   },
   "execution_count": 11,
   "outputs": [
    {
     "data": {
      "text/plain": "0.2786351909537758"
     },
     "execution_count": 11,
     "metadata": {},
     "output_type": "execute_result"
    }
   ]
  },
  {
   "cell_type": "code",
   "source": [
    "ss = SecondStage(fs)"
   ],
   "metadata": {
    "id": "T8EPKpS1qMS2",
    "ExecuteTime": {
     "end_time": "2023-09-03T19:39:28.248141010Z",
     "start_time": "2023-09-03T19:04:22.941743254Z"
    }
   },
   "execution_count": 12,
   "outputs": []
  },
  {
   "cell_type": "code",
   "source": [
    "ss.X_valid.columns = [np.arange(1, ss.X_valid.shape[1]+1)]\n",
    "\n",
    "y_valid_pred_proba = ss.catb.predict_proba(ss.X_valid)[:, 1]\n",
    "\n",
    "precision, recall, threshold = precision_recall_curve(ss.y_valid, y_valid_pred_proba)\n",
    "f1_score = (2 * precision * recall) / (precision + recall)\n",
    "ix = np.argmax(f1_score)\n",
    "\n",
    "y_valid_pred = [1 if el > threshold[ix] else 0 for el in y_valid_pred_proba]\n",
    "\n",
    "\n",
    "print(classification_report(ss.y_valid, y_valid_pred))"
   ],
   "metadata": {
    "colab": {
     "base_uri": "https://localhost:8080/"
    },
    "id": "jaW6of_uTJRV",
    "outputId": "261c2100-1cda-4672-b470-124f9d6e9bbe",
    "ExecuteTime": {
     "end_time": "2023-09-03T19:42:24.206837158Z",
     "start_time": "2023-09-03T19:39:28.288935135Z"
    }
   },
   "execution_count": 13,
   "outputs": [
    {
     "name": "stdout",
     "output_type": "stream",
     "text": [
      "              precision    recall  f1-score   support\n",
      "\n",
      "           0       0.71      0.38      0.50     24878\n",
      "           1       0.93      0.98      0.96    213731\n",
      "\n",
      "    accuracy                           0.92    238609\n",
      "   macro avg       0.82      0.68      0.73    238609\n",
      "weighted avg       0.91      0.92      0.91    238609\n"
     ]
    }
   ]
  },
  {
   "cell_type": "code",
   "source": [
    "get_recs = GetRecommendations(fs, ss, ss.valid_lvl_2)"
   ],
   "metadata": {
    "id": "eku6rX8DrzqK",
    "is_executing": true,
    "ExecuteTime": {
     "start_time": "2023-09-03T19:42:24.072871697Z"
    }
   },
   "execution_count": null,
   "outputs": []
  },
  {
   "cell_type": "code",
   "execution_count": null,
   "outputs": [],
   "source": [],
   "metadata": {
    "collapsed": false
   }
  },
  {
   "cell_type": "code",
   "source": [
    "get_recs.pred_recommendations"
   ],
   "metadata": {
    "colab": {
     "base_uri": "https://localhost:8080/",
     "height": 423
    },
    "id": "WIHmYsodrBhH",
    "outputId": "cd97645e-d664-4a68-a708-e56f5a17e8dc",
    "is_executing": true
   },
   "execution_count": null,
   "outputs": []
  },
  {
   "cell_type": "code",
   "source": [
    "get_recs.pred_recommendations.apply(lambda x: precision_at_k(x['recs'], x['item_id'], k=5), axis=1).mean()"
   ],
   "metadata": {
    "colab": {
     "base_uri": "https://localhost:8080/"
    },
    "id": "74xHdlnZlFLG",
    "outputId": "d862e08c-a9c5-4052-f6bc-a9cd877ab360",
    "is_executing": true
   },
   "execution_count": null,
   "outputs": []
  },
  {
   "cell_type": "code",
   "source": [
    "get_recs.pred_recommendations.apply(lambda x: ndcg_at_k(x['recs'], x['item_id'], k=5), axis=1).mean()"
   ],
   "metadata": {
    "colab": {
     "base_uri": "https://localhost:8080/"
    },
    "id": "NznDvyiJlYsR",
    "outputId": "67d679a8-6652-47b4-9062-2a8da6af928f",
    "is_executing": true
   },
   "execution_count": null,
   "outputs": []
  }
 ]
}
