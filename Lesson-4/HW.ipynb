{
 "cells": [
  {
   "cell_type": "markdown",
   "source": [
    "## Рекомендательные системы\n",
    "### Урок 4. Рекомендательные системы на основе контента"
   ],
   "metadata": {
    "collapsed": false
   },
   "id": "dc1fbb146932cebf"
  },
  {
   "cell_type": "markdown",
   "source": [
    "1. Перенесите метрики в модуль src.metrics.py\n",
    "2. Перенесите функцию prefilter_items в модуль src.utils.py\n",
    "3. Создайте модуль src.recommenders.py. Напищите код для класса ниже \n",
    "(задание обсуждали на вебинаре, для первой функции практически сделали) и положите его в src.recommenders.py\n",
    "4. Проверьте, что все модули корректно импортируются"
   ],
   "metadata": {
    "collapsed": false
   },
   "id": "bf1b47a491bf1577"
  },
  {
   "cell_type": "markdown",
   "source": [
    "Проверка, что все работает"
   ],
   "metadata": {
    "collapsed": false
   },
   "id": "f8ce56ce77111b4a"
  },
  {
   "cell_type": "code",
   "execution_count": 2,
   "outputs": [],
   "source": [
    "from src.metrics import precision_at_k, recall_at_k\n",
    "from src.utils import prefilter_items\n",
    "from src.recommenders import MainRecommender"
   ],
   "metadata": {
    "collapsed": false,
    "ExecuteTime": {
     "end_time": "2023-08-06T19:53:38.959577129Z",
     "start_time": "2023-08-06T19:53:38.903877330Z"
    }
   },
   "id": "87527f2ed9404e89"
  },
  {
   "cell_type": "code",
   "execution_count": 3,
   "outputs": [
    {
     "data": {
      "text/plain": "src.recommenders.MainRecommender"
     },
     "execution_count": 3,
     "metadata": {},
     "output_type": "execute_result"
    }
   ],
   "source": [
    "MainRecommender"
   ],
   "metadata": {
    "collapsed": false,
    "ExecuteTime": {
     "end_time": "2023-08-06T19:53:43.931537634Z",
     "start_time": "2023-08-06T19:53:43.911779368Z"
    }
   },
   "id": "b5fca76cb4d722fb"
  },
  {
   "cell_type": "code",
   "execution_count": 4,
   "outputs": [
    {
     "data": {
      "text/plain": "<function src.utils.prefilter_items(data_train, cut_length=3, sales_range=(10, 100))>"
     },
     "execution_count": 4,
     "metadata": {},
     "output_type": "execute_result"
    }
   ],
   "source": [
    "prefilter_items"
   ],
   "metadata": {
    "collapsed": false,
    "ExecuteTime": {
     "end_time": "2023-08-06T19:53:50.008889571Z",
     "start_time": "2023-08-06T19:53:49.989952644Z"
    }
   },
   "id": "7713bb1594c127ff"
  },
  {
   "cell_type": "code",
   "execution_count": 5,
   "outputs": [
    {
     "data": {
      "text/plain": "<function src.metrics.precision_at_k(recommended_list, bought_list, k=5)>"
     },
     "execution_count": 5,
     "metadata": {},
     "output_type": "execute_result"
    }
   ],
   "source": [
    "precision_at_k"
   ],
   "metadata": {
    "collapsed": false,
    "ExecuteTime": {
     "end_time": "2023-08-06T19:53:55.244109501Z",
     "start_time": "2023-08-06T19:53:55.222549312Z"
    }
   },
   "id": "b2604aae9ce7671"
  },
  {
   "cell_type": "code",
   "execution_count": 6,
   "outputs": [
    {
     "data": {
      "text/plain": "<function src.metrics.recall_at_k(recommended_list, bought_list, k=5)>"
     },
     "execution_count": 6,
     "metadata": {},
     "output_type": "execute_result"
    }
   ],
   "source": [
    "recall_at_k"
   ],
   "metadata": {
    "collapsed": false,
    "ExecuteTime": {
     "end_time": "2023-08-06T19:54:01.937243042Z",
     "start_time": "2023-08-06T19:54:01.890684695Z"
    }
   },
   "id": "61ee03b23091cb12"
  }
 ],
 "metadata": {
  "kernelspec": {
   "display_name": "Python 3",
   "language": "python",
   "name": "python3"
  },
  "language_info": {
   "codemirror_mode": {
    "name": "ipython",
    "version": 2
   },
   "file_extension": ".py",
   "mimetype": "text/x-python",
   "name": "python",
   "nbconvert_exporter": "python",
   "pygments_lexer": "ipython2",
   "version": "2.7.6"
  }
 },
 "nbformat": 4,
 "nbformat_minor": 5
}
