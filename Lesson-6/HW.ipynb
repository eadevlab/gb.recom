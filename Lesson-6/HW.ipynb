{
 "cells": [
  {
   "cell_type": "markdown",
   "source": [
    "## Рекомендательные системы\n",
    "### Урок 6. Двухуровневые модели рекомендаций"
   ],
   "metadata": {
    "collapsed": false
   },
   "id": "afe7e3672c4f6da9"
  },
  {
   "cell_type": "markdown",
   "id": "f7696f932c091a0c",
   "metadata": {},
   "source": [
    "### Для начала возьмём подготовительную часть из урока"
   ]
  },
  {
   "cell_type": "code",
   "execution_count": 1,
   "id": "2bf184714efc622d",
   "metadata": {
    "ExecuteTime": {
     "end_time": "2023-08-27T10:08:48.663467690Z",
     "start_time": "2023-08-27T10:08:47.331483314Z"
    }
   },
   "outputs": [
    {
     "name": "stderr",
     "output_type": "stream",
     "text": [
      "/home/eugene/study/gb.recom/venv/lib/python3.8/site-packages/tqdm/auto.py:21: TqdmWarning: IProgress not found. Please update jupyter and ipywidgets. See https://ipywidgets.readthedocs.io/en/stable/user_install.html\n",
      "  from .autonotebook import tqdm as notebook_tqdm\n"
     ]
    }
   ],
   "source": [
    "import pandas as pd\n",
    "import numpy as np\n",
    "import matplotlib.pyplot as plt\n",
    "%matplotlib inline\n",
    "from sklearn.preprocessing import OneHotEncoder\n",
    "\n",
    "# Для работы с матрицами\n",
    "from scipy.sparse import csr_matrix\n",
    "\n",
    "# Матричная факторизация\n",
    "from implicit.als import AlternatingLeastSquares\n",
    "\n",
    "# Модель второго уровня\n",
    "from catboost import CatBoostClassifier\n",
    "\n",
    "import sys\n",
    "sys.path.append('../')\n",
    "\n",
    "# Написанные нами функции\n",
    "from src.metrics import precision_at_k, recall_at_k\n",
    "from src.utils import prefilter_items\n",
    "from src.recommenders import MainRecommender"
   ]
  },
  {
   "cell_type": "code",
   "execution_count": 2,
   "id": "d8ab86fab3722018",
   "metadata": {
    "ExecuteTime": {
     "end_time": "2023-08-27T10:08:49.111635941Z",
     "start_time": "2023-08-27T10:08:48.667791965Z"
    }
   },
   "outputs": [],
   "source": [
    "data = pd.read_csv('./data/retail_train.csv')\n",
    "item_features = pd.read_csv('./data/product.csv')\n",
    "user_features = pd.read_csv('./data/hh_demographic.csv')"
   ]
  },
  {
   "cell_type": "code",
   "execution_count": 3,
   "id": "194cfa773a9d17bc",
   "metadata": {
    "ExecuteTime": {
     "end_time": "2023-08-27T10:08:49.121607578Z",
     "start_time": "2023-08-27T10:08:49.103593590Z"
    }
   },
   "outputs": [],
   "source": [
    "ITEM_COL = 'item_id'\n",
    "USER_COL = 'user_id'"
   ]
  },
  {
   "cell_type": "code",
   "execution_count": 4,
   "id": "e93ee91b126e592d",
   "metadata": {
    "ExecuteTime": {
     "end_time": "2023-08-27T10:08:49.153669140Z",
     "start_time": "2023-08-27T10:08:49.119405284Z"
    }
   },
   "outputs": [],
   "source": [
    "# column processing\n",
    "item_features.columns = [col.lower() for col in item_features.columns]\n",
    "user_features.columns = [col.lower() for col in user_features.columns]\n",
    "\n",
    "item_features.rename(columns={'product_id': ITEM_COL}, inplace=True)\n",
    "user_features.rename(columns={'household_key': USER_COL }, inplace=True)"
   ]
  },
  {
   "cell_type": "code",
   "execution_count": 5,
   "id": "84d4c96c5af49bdb",
   "metadata": {
    "ExecuteTime": {
     "end_time": "2023-08-27T10:08:49.168612904Z",
     "start_time": "2023-08-27T10:08:49.127628176Z"
    }
   },
   "outputs": [],
   "source": [
    "# Важна схема обучения и валидации!\n",
    "# -- давние покупки -- | -- 6 недель -- | -- 3 недель -- \n",
    "# подобрать размер 2-ого датасета (6 недель) --> learning curve (зависимость метрики recall@k от размера датасета)\n",
    "\n",
    "\n",
    "VAL_MATCHER_WEEKS = 6\n",
    "VAL_RANKER_WEEKS = 3"
   ]
  },
  {
   "cell_type": "code",
   "execution_count": 6,
   "id": "6226e787c9b1ff6d",
   "metadata": {
    "ExecuteTime": {
     "end_time": "2023-08-27T10:08:49.193694569Z",
     "start_time": "2023-08-27T10:08:49.142280483Z"
    }
   },
   "outputs": [],
   "source": [
    "# берем данные для тренировки matching модели\n",
    "data_train_matcher = data[data['week_no'] < data['week_no'].max() - (VAL_MATCHER_WEEKS + VAL_RANKER_WEEKS)]\n",
    "\n",
    "# берем данные для валидации matching модели\n",
    "data_val_matcher = data[(data['week_no'] >= data['week_no'].max() - (VAL_MATCHER_WEEKS + VAL_RANKER_WEEKS)) &\n",
    "                      (data['week_no'] < data['week_no'].max() - (VAL_RANKER_WEEKS))]\n",
    "\n",
    "\n",
    "# берем данные для тренировки ranking модели\n",
    "data_train_ranker = data_val_matcher.copy()  # Для наглядности. Далее мы добавим изменения, и они будут отличаться\n",
    "\n",
    "# берем данные для теста ranking, matching модели\n",
    "data_val_ranker = data[data['week_no'] >= data['week_no'].max() - VAL_RANKER_WEEKS]"
   ]
  },
  {
   "cell_type": "code",
   "execution_count": 7,
   "id": "281140ddf7ed1918",
   "metadata": {
    "ExecuteTime": {
     "end_time": "2023-08-27T10:08:49.237805161Z",
     "start_time": "2023-08-27T10:08:49.184931811Z"
    }
   },
   "outputs": [
    {
     "data": {
      "text/plain": "   Unnamed: 0  user_id    basket_id  day   item_id  quantity  sales_value  \\\n0     1832874     1078  35573861879  524   1082185         1         0.56   \n1      402281      324  29170411703  165   7168774         2         6.98   \n2     1348564     1982  32957769022  404  12811490         1         3.99   \n3     1714815     1023  34573871336  495    920025         1         5.99   \n4     1266182      695  32672141822  383    941357         1         3.19   \n\n   store_id  retail_disc  trans_time  week_no  coupon_disc  coupon_match_disc  \n0       375          0.0        1440       76          0.0                0.0  \n1       367          0.0        1115       24          0.0                0.0  \n2       319          0.0        2101       58          0.0                0.0  \n3       299          0.0        1643       71          0.0                0.0  \n4       396          0.0        1743       55          0.0                0.0  ",
      "text/html": "<div>\n<style scoped>\n    .dataframe tbody tr th:only-of-type {\n        vertical-align: middle;\n    }\n\n    .dataframe tbody tr th {\n        vertical-align: top;\n    }\n\n    .dataframe thead th {\n        text-align: right;\n    }\n</style>\n<table border=\"1\" class=\"dataframe\">\n  <thead>\n    <tr style=\"text-align: right;\">\n      <th></th>\n      <th>Unnamed: 0</th>\n      <th>user_id</th>\n      <th>basket_id</th>\n      <th>day</th>\n      <th>item_id</th>\n      <th>quantity</th>\n      <th>sales_value</th>\n      <th>store_id</th>\n      <th>retail_disc</th>\n      <th>trans_time</th>\n      <th>week_no</th>\n      <th>coupon_disc</th>\n      <th>coupon_match_disc</th>\n    </tr>\n  </thead>\n  <tbody>\n    <tr>\n      <th>0</th>\n      <td>1832874</td>\n      <td>1078</td>\n      <td>35573861879</td>\n      <td>524</td>\n      <td>1082185</td>\n      <td>1</td>\n      <td>0.56</td>\n      <td>375</td>\n      <td>0.0</td>\n      <td>1440</td>\n      <td>76</td>\n      <td>0.0</td>\n      <td>0.0</td>\n    </tr>\n    <tr>\n      <th>1</th>\n      <td>402281</td>\n      <td>324</td>\n      <td>29170411703</td>\n      <td>165</td>\n      <td>7168774</td>\n      <td>2</td>\n      <td>6.98</td>\n      <td>367</td>\n      <td>0.0</td>\n      <td>1115</td>\n      <td>24</td>\n      <td>0.0</td>\n      <td>0.0</td>\n    </tr>\n    <tr>\n      <th>2</th>\n      <td>1348564</td>\n      <td>1982</td>\n      <td>32957769022</td>\n      <td>404</td>\n      <td>12811490</td>\n      <td>1</td>\n      <td>3.99</td>\n      <td>319</td>\n      <td>0.0</td>\n      <td>2101</td>\n      <td>58</td>\n      <td>0.0</td>\n      <td>0.0</td>\n    </tr>\n    <tr>\n      <th>3</th>\n      <td>1714815</td>\n      <td>1023</td>\n      <td>34573871336</td>\n      <td>495</td>\n      <td>920025</td>\n      <td>1</td>\n      <td>5.99</td>\n      <td>299</td>\n      <td>0.0</td>\n      <td>1643</td>\n      <td>71</td>\n      <td>0.0</td>\n      <td>0.0</td>\n    </tr>\n    <tr>\n      <th>4</th>\n      <td>1266182</td>\n      <td>695</td>\n      <td>32672141822</td>\n      <td>383</td>\n      <td>941357</td>\n      <td>1</td>\n      <td>3.19</td>\n      <td>396</td>\n      <td>0.0</td>\n      <td>1743</td>\n      <td>55</td>\n      <td>0.0</td>\n      <td>0.0</td>\n    </tr>\n  </tbody>\n</table>\n</div>"
     },
     "execution_count": 7,
     "metadata": {},
     "output_type": "execute_result"
    }
   ],
   "source": [
    "data_train_matcher.head()"
   ]
  },
  {
   "cell_type": "code",
   "execution_count": 8,
   "id": "fec35c9fb6d69855",
   "metadata": {
    "ExecuteTime": {
     "end_time": "2023-08-27T10:08:49.465724579Z",
     "start_time": "2023-08-27T10:08:49.227832500Z"
    }
   },
   "outputs": [
    {
     "name": "stdout",
     "output_type": "stream",
     "text": [
      "Decreased # items from 33411 to 5001\n"
     ]
    }
   ],
   "source": [
    "n_items_before = data_train_matcher['item_id'].nunique()\n",
    "\n",
    "data_train_matcher = prefilter_items(data_train_matcher, item_features=item_features, n_popular=5000)\n",
    "\n",
    "n_items_after = data_train_matcher['item_id'].nunique()\n",
    "print('Decreased # items from {} to {}'.format(n_items_before, n_items_after))"
   ]
  },
  {
   "cell_type": "code",
   "execution_count": 9,
   "id": "99f1fd1958f372b0",
   "metadata": {
    "ExecuteTime": {
     "end_time": "2023-08-27T10:08:49.558394132Z",
     "start_time": "2023-08-27T10:08:49.424835174Z"
    }
   },
   "outputs": [],
   "source": [
    "# ищем общих пользователей\n",
    "common_users = data_train_matcher.user_id.values\n",
    "\n",
    "data_val_matcher = data_val_matcher[data_val_matcher.user_id.isin(common_users)]\n",
    "data_train_ranker = data_train_ranker[data_train_ranker.user_id.isin(common_users)]\n",
    "data_val_ranker = data_val_ranker[data_val_ranker.user_id.isin(common_users)]"
   ]
  },
  {
   "cell_type": "code",
   "execution_count": 10,
   "id": "d6566b0e14b5ed5",
   "metadata": {
    "ExecuteTime": {
     "end_time": "2023-08-27T10:08:52.805224115Z",
     "start_time": "2023-08-27T10:08:49.471716259Z"
    }
   },
   "outputs": [
    {
     "name": "stderr",
     "output_type": "stream",
     "text": [
      "100%|██████████| 15/15 [00:01<00:00, 10.88it/s]\n",
      "100%|██████████| 2431/2431 [00:00<00:00, 55215.71it/s]\n"
     ]
    }
   ],
   "source": [
    "recommender = MainRecommender(data_train_matcher)"
   ]
  },
  {
   "cell_type": "code",
   "execution_count": 11,
   "id": "545c24f33acccc0",
   "metadata": {
    "ExecuteTime": {
     "end_time": "2023-08-27T10:08:52.805609837Z",
     "start_time": "2023-08-27T10:08:52.759581961Z"
    }
   },
   "outputs": [],
   "source": [
    "ACTUAL_COL = 'actual'"
   ]
  },
  {
   "cell_type": "code",
   "execution_count": 12,
   "id": "385112ef4526e437",
   "metadata": {
    "ExecuteTime": {
     "end_time": "2023-08-27T10:08:52.939607078Z",
     "start_time": "2023-08-27T10:08:52.760692254Z"
    }
   },
   "outputs": [
    {
     "data": {
      "text/plain": "   user_id                                             actual\n0     1501  [8090657, 1016966, 860776, 1119051, 6904428, 8...\n1     1633  [953476, 916122, 1083043, 9837399, 903524, 983...\n2      336  [824663, 1096317, 1015375, 1107661, 835300, 10...\n3     2195                   [916260, 896444, 946396, 995965]\n4     2107  [916122, 1024731, 1070428, 1068504, 849843, 64...",
      "text/html": "<div>\n<style scoped>\n    .dataframe tbody tr th:only-of-type {\n        vertical-align: middle;\n    }\n\n    .dataframe tbody tr th {\n        vertical-align: top;\n    }\n\n    .dataframe thead th {\n        text-align: right;\n    }\n</style>\n<table border=\"1\" class=\"dataframe\">\n  <thead>\n    <tr style=\"text-align: right;\">\n      <th></th>\n      <th>user_id</th>\n      <th>actual</th>\n    </tr>\n  </thead>\n  <tbody>\n    <tr>\n      <th>0</th>\n      <td>1501</td>\n      <td>[8090657, 1016966, 860776, 1119051, 6904428, 8...</td>\n    </tr>\n    <tr>\n      <th>1</th>\n      <td>1633</td>\n      <td>[953476, 916122, 1083043, 9837399, 903524, 983...</td>\n    </tr>\n    <tr>\n      <th>2</th>\n      <td>336</td>\n      <td>[824663, 1096317, 1015375, 1107661, 835300, 10...</td>\n    </tr>\n    <tr>\n      <th>3</th>\n      <td>2195</td>\n      <td>[916260, 896444, 946396, 995965]</td>\n    </tr>\n    <tr>\n      <th>4</th>\n      <td>2107</td>\n      <td>[916122, 1024731, 1070428, 1068504, 849843, 64...</td>\n    </tr>\n  </tbody>\n</table>\n</div>"
     },
     "execution_count": 12,
     "metadata": {},
     "output_type": "execute_result"
    }
   ],
   "source": [
    "result_eval_matcher = data_val_matcher.groupby(USER_COL, sort=False)[ITEM_COL].unique().reset_index()\n",
    "result_eval_matcher.columns=[USER_COL, ACTUAL_COL]\n",
    "result_eval_matcher.head()"
   ]
  },
  {
   "cell_type": "code",
   "execution_count": 13,
   "id": "c694cec7a9209350",
   "metadata": {
    "ExecuteTime": {
     "end_time": "2023-08-27T10:08:53.029502004Z",
     "start_time": "2023-08-27T10:08:52.946800655Z"
    }
   },
   "outputs": [],
   "source": [
    "def calc_precision(df_result, top_k):\n",
    "    for col_name in df_result.columns[2:]:\n",
    "        yield col_name, df_result.apply(lambda row: precision_at_k(row[col_name], row[ACTUAL_COL], k=top_k), axis=1).mean()\n",
    "        \n",
    "def calc_recall(df_result, top_k):\n",
    "    for col_name in df_result.columns[2:]:\n",
    "        yield col_name, df_result.apply(lambda row: recall_at_k(row[col_name], row[ACTUAL_COL], k=top_k), axis=1).mean()"
   ]
  },
  {
   "cell_type": "markdown",
   "id": "14c981685b6cf1d5",
   "metadata": {},
   "source": [
    "### **Задание 1.**\n",
    "\n",
    "A) Попробуйте различные варианты генерации кандидатов. Какие из них дают наибольший recall@k ?\n",
    "- Пока пробуем отобрать 50 кандидатов (k=50)\n",
    "- Качество измеряем на data_val_matcher: следующие 6 недель после трейна\n",
    "\n",
    "Дают ли own recommendtions + top-popular лучший recall?  \n",
    "\n",
    "B)* Как зависит recall@k от k? Постройте для одной схемы генерации кандидатов эту зависимость для k = {20, 50, 100, 200, 500}  \n",
    "C)* Исходя из прошлого вопроса, как вы думаете, какое значение k является наиболее разумным?\n"
   ]
  },
  {
   "cell_type": "code",
   "execution_count": 14,
   "id": "4072b49afa6dd549",
   "metadata": {
    "ExecuteTime": {
     "end_time": "2023-08-27T10:08:53.084997270Z",
     "start_time": "2023-08-27T10:08:52.987740090Z"
    }
   },
   "outputs": [],
   "source": [
    "def make_recommendations(df_result, name, model, N=50):\n",
    "    df_result[name] = df_result[USER_COL].apply(lambda x: model(x, N=N))\n",
    "    \n",
    "def fill_with_tops(column, N=5):    \n",
    "    tops = np.array(recommender.overall_top_purchases)\n",
    "    recs = np.array(column)\n",
    "    mask = np.isin(tops, recs, invert=True)\n",
    "    tops = tops[mask]\n",
    "    return np.append(recs, tops[:N])"
   ]
  },
  {
   "cell_type": "code",
   "execution_count": 15,
   "outputs": [],
   "source": [
    "rec_list = (\n",
    "    ('own_recs', recommender.get_own_recommendations, 50),\n",
    "    ('als_recs', recommender.get_als_recommendations, 50),\n",
    "    ('similar_user_recs', recommender.get_similar_users_recommendation, 50),\n",
    "    ('similar_item_recs', recommender.get_similar_items_recommendation, 50),\n",
    "    ('own+top_pop', recommender.get_own_recommendations, 25)\n",
    ")"
   ],
   "metadata": {
    "collapsed": false,
    "ExecuteTime": {
     "end_time": "2023-08-27T10:08:53.085446505Z",
     "start_time": "2023-08-27T10:08:52.988558190Z"
    }
   },
   "id": "96f9b0f450f2eb90"
  },
  {
   "cell_type": "code",
   "execution_count": null,
   "outputs": [],
   "source": [
    "for name, model, n in rec_list:\n",
    "    make_recommendations(result_eval_matcher, name, model, n)"
   ],
   "metadata": {
    "collapsed": false,
    "ExecuteTime": {
     "start_time": "2023-08-27T10:08:52.989606612Z"
    }
   },
   "id": "4e82cb2137e7ec01"
  },
  {
   "cell_type": "code",
   "execution_count": null,
   "outputs": [],
   "source": [
    "result_eval_matcher['own+top_pop'] = result_eval_matcher['own+top_pop']. \\\n",
    "        apply(lambda row: fill_with_tops(row, N=25))"
   ],
   "metadata": {
    "collapsed": false
   },
   "id": "5c88f98ed069469"
  },
  {
   "cell_type": "code",
   "execution_count": null,
   "outputs": [],
   "source": [
    "sorted(calc_recall(result_eval_matcher, 50), key=lambda x: x[1], reverse=True)"
   ],
   "metadata": {
    "collapsed": false
   },
   "id": "80ba14f2551b785c"
  },
  {
   "cell_type": "markdown",
   "source": [],
   "metadata": {
    "collapsed": false
   },
   "id": "d0d5009502c29b41"
  },
  {
   "cell_type": "code",
   "execution_count": null,
   "outputs": [],
   "source": [
    "k_list = (20, 50, 100, 200, 500)\n",
    "BEST_RECOM = 'own_recs'\n",
    "\n",
    "scores = [result_eval_matcher.apply(lambda row: recall_at_k(row[BEST_RECOM], row[ACTUAL_COL], k=k), axis=1).mean() for k in k_list]\n",
    "\n",
    "\n",
    "plt.plot(k_list, scores)\n",
    "plt.xlabel('k')\n",
    "plt.ylabel('Recall@k')\n",
    "plt.grid()\n",
    "plt.show()"
   ],
   "metadata": {
    "collapsed": false
   },
   "id": "dd29f7ceb6e405c"
  },
  {
   "cell_type": "markdown",
   "source": [
    "#### Выводы\n",
    "3 часа работало и ничего... Но в любом случае лучшие показатели будут у recall@50 будут у own_rec. А при увелечении k будет расти и recall@k"
   ],
   "metadata": {
    "collapsed": false
   },
   "id": "6985e93d280b85de"
  },
  {
   "cell_type": "markdown",
   "source": [
    "---"
   ],
   "metadata": {
    "collapsed": false
   },
   "id": "55cecb100dd56129"
  },
  {
   "cell_type": "markdown",
   "source": [
    "### Задание 2.\n",
    "\n",
    "Обучите модель 2-ого уровня, при этом:\n",
    "    - Добавьте минимум по 2 фичи для юзера, товара и пары юзер-товар\n",
    "    - Измерьте отдельно precision@5 модели 1-ого уровня и двухуровневой модели на data_val_lvl_2\n",
    "    - Вырос ли precision@5 при использовании двухуровневой модели?"
   ],
   "metadata": {
    "collapsed": false
   },
   "id": "d48c2c5f5ed80d37"
  },
  {
   "cell_type": "code",
   "execution_count": null,
   "outputs": [],
   "source": [
    "df_ranker_train = data_train_ranker[[USER_COL, ITEM_COL]].copy()"
   ],
   "metadata": {
    "collapsed": false
   },
   "id": "a9a829294f19333b"
  },
  {
   "cell_type": "code",
   "execution_count": null,
   "outputs": [],
   "source": [
    "df_match_candidates = pd.DataFrame(data_train_ranker[USER_COL].unique())\n",
    "df_match_candidates.columns = [USER_COL]\n",
    "df_match_candidates['candidates'] = df_match_candidates[USER_COL].apply(lambda x: recommender.get_own_recommendations(x, N=50))\n",
    "\n",
    "# Не хватает нулей в датасете, поэтому добавляем наших кандитатов в качество нулей\n",
    "df_ranker_train = df_match_candidates.merge(df_ranker_train, on=[USER_COL, ITEM_COL], how='left')\n",
    "\n",
    "# чистим дубликаты\n",
    "df_ranker_train = df_ranker_train.drop_duplicates(subset=[USER_COL, ITEM_COL])\n",
    "\n",
    "df_ranker_train['target'].fillna(0, inplace= True)\n",
    "df_ranker_train.target.value_counts()"
   ],
   "metadata": {
    "collapsed": false
   },
   "id": "ca7990c719d6955b"
  },
  {
   "cell_type": "code",
   "execution_count": null,
   "outputs": [],
   "source": [
    "X_train = df_ranker_train.drop('target', axis=1)\n",
    "y_train = df_ranker_train[['target']]"
   ],
   "metadata": {
    "collapsed": false
   },
   "id": "dcaf37446924715c"
  },
  {
   "cell_type": "code",
   "execution_count": null,
   "outputs": [],
   "source": [
    "cat_feats = X_train.columns[2:].tolist()\n",
    "X_train[cat_feats] = X_train[cat_feats].astype('category')\n",
    "cat_feats"
   ],
   "metadata": {
    "collapsed": false
   },
   "id": "c14639f18d7f7ecd"
  },
  {
   "cell_type": "code",
   "execution_count": null,
   "outputs": [],
   "source": [
    "lgb = LGBMClassifier(objective='binary',\n",
    "                     max_depth=8,\n",
    "                     n_estimators=300,\n",
    "                     learning_rate=0.05,\n",
    "                     categorical_column=cat_feats)\n",
    "\n",
    "lgb.fit(X_train, y_train)\n",
    "\n",
    "train_preds = lgb.predict_proba(X_train)"
   ],
   "metadata": {
    "collapsed": false
   },
   "id": "46f1495a578f0849"
  },
  {
   "cell_type": "code",
   "execution_count": null,
   "outputs": [],
   "source": [
    "df_ranker_predict = df_ranker_train.copy()\n",
    "df_ranker_predict['proba_item_purchase'] = train_preds[:,1]"
   ],
   "metadata": {
    "collapsed": false
   },
   "id": "441671b62028d9f2"
  },
  {
   "cell_type": "code",
   "execution_count": null,
   "outputs": [],
   "source": [
    "result_eval_ranker = data_val_ranker.groupby(USER_COL)[ITEM_COL].unique().reset_index()\n",
    "result_eval_ranker.columns=[USER_COL, ACTUAL_COL]"
   ],
   "metadata": {
    "collapsed": false
   },
   "id": "7bfdc4b00902f4d"
  },
  {
   "cell_type": "code",
   "execution_count": null,
   "outputs": [],
   "source": [
    "result_eval_ranker['own_rec'] = \\\n",
    "result_eval_ranker[USER_COL].apply(lambda x: recommender.get_own_recommendations(x, N=50))"
   ],
   "metadata": {
    "collapsed": false
   },
   "id": "7b43a617a7ce5963"
  },
  {
   "cell_type": "code",
   "execution_count": null,
   "outputs": [],
   "source": [
    "def rerank(user_id):\n",
    "    return df_ranker_predict[df_ranker_predict[USER_COL]==user_id].\\\n",
    "sort_values('proba_item_purchase', ascending=False).head(5).item_id.tolist()"
   ],
   "metadata": {
    "collapsed": false
   },
   "id": "d60ed8cf965121d8"
  },
  {
   "cell_type": "code",
   "execution_count": null,
   "outputs": [],
   "source": [
    "result_eval_ranker['reranked_own_rec'] = result_eval_ranker[USER_COL].apply(lambda user_id: rerank(user_id))"
   ],
   "metadata": {
    "collapsed": false
   },
   "id": "f07ca6cd6f97883b"
  },
  {
   "cell_type": "code",
   "execution_count": null,
   "outputs": [],
   "source": [
    "print(*sorted(calc_precision(result_eval_ranker, 5), key=lambda x: x[1], reverse=True), sep='\\n')"
   ],
   "metadata": {
    "collapsed": false
   },
   "id": "fd5594136db4d842"
  }
 ],
 "metadata": {
  "kernelspec": {
   "display_name": "Python 3 (ipykernel)",
   "language": "python",
   "name": "python3"
  },
  "language_info": {
   "codemirror_mode": {
    "name": "ipython",
    "version": 3
   },
   "file_extension": ".py",
   "mimetype": "text/x-python",
   "name": "python",
   "nbconvert_exporter": "python",
   "pygments_lexer": "ipython3",
   "version": "3.10.12"
  }
 },
 "nbformat": 4,
 "nbformat_minor": 5
}
